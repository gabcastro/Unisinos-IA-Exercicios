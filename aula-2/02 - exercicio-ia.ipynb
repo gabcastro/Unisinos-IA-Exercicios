{
  "nbformat": 4,
  "nbformat_minor": 0,
  "metadata": {
    "colab": {
      "name": "Aula_2.ipynb.txt",
      "provenance": [],
      "collapsed_sections": []
    },
    "kernelspec": {
      "name": "python3",
      "display_name": "Python 3"
    }
  },
  "cells": [
    {
      "cell_type": "markdown",
      "metadata": {
        "id": "WBanE3VFgq2v",
        "colab_type": "text"
      },
      "source": [
        "# Aula 2 - Busca não-informada e informada"
      ]
    },
    {
      "cell_type": "markdown",
      "metadata": {
        "id": "71c_zjYShmGE",
        "colab_type": "text"
      },
      "source": [
        "## Parte 1 - busca não-informada\n",
        "\n",
        "Abaixo, temos a implementação do algoritmo busca em largura."
      ]
    },
    {
      "cell_type": "code",
      "metadata": {
        "id": "FxW0xQ1Hrnvp",
        "colab_type": "code",
        "colab": {}
      },
      "source": [
        "import collections\n",
        "import math"
      ],
      "execution_count": 0,
      "outputs": []
    },
    {
      "cell_type": "code",
      "metadata": {
        "id": "-G1mfWPbglEE",
        "colab_type": "code",
        "colab": {}
      },
      "source": [
        "def bfs(graph, root): \n",
        "    visited, queue = set(), collections.deque([root])\n",
        "    visited.add(root)\n",
        "    while queue: \n",
        "        vertex = queue.popleft()\n",
        "        print(vertex)\n",
        "        for neighbour in graph[vertex]: \n",
        "            if neighbour not in visited: \n",
        "                visited.add(neighbour) \n",
        "                queue.append(neighbour) "
      ],
      "execution_count": 0,
      "outputs": []
    },
    {
      "cell_type": "markdown",
      "metadata": {
        "id": "o_HEuyR2vkTK",
        "colab_type": "text"
      },
      "source": [
        "Grafos podem ser definidos como segue:"
      ]
    },
    {
      "cell_type": "code",
      "metadata": {
        "id": "acHGXHJvvn8C",
        "colab_type": "code",
        "colab": {}
      },
      "source": [
        "graph1 = {0: [1, 2], 1: [2], 2: [3], 3: [1, 2]} \n",
        "graph2 = {0: [1, 2], 1: [0, 3, 4], 2: [0], 3: [1], 4: [2, 3]}"
      ],
      "execution_count": 0,
      "outputs": []
    },
    {
      "cell_type": "markdown",
      "metadata": {
        "id": "wdhhn4Lpvfp5",
        "colab_type": "text"
      },
      "source": [
        "Para testar o algoritmo, basta fazer o seguinte:"
      ]
    },
    {
      "cell_type": "code",
      "metadata": {
        "id": "6RlMxK92vis_",
        "colab_type": "code",
        "outputId": "90c7129b-7e00-49ca-d483-cdaed233dc24",
        "colab": {
          "base_uri": "https://localhost:8080/",
          "height": 202
        }
      },
      "source": [
        "print('Ordem de visitação do BFS no graph1:')\n",
        "bfs(graph1, 0)\n",
        "print('Ordem de visitação do BFS no graph2:')\n",
        "bfs(graph2, 0)"
      ],
      "execution_count": 0,
      "outputs": [
        {
          "output_type": "stream",
          "text": [
            "Ordem de visitação do BFS no graph1:\n",
            "0\n",
            "1\n",
            "2\n",
            "3\n",
            "Ordem de visitação do BFS no graph2:\n",
            "0\n",
            "1\n",
            "2\n",
            "3\n",
            "4\n"
          ],
          "name": "stdout"
        }
      ]
    },
    {
      "cell_type": "markdown",
      "metadata": {
        "id": "FuArQF0Ah-3n",
        "colab_type": "text"
      },
      "source": [
        "### Exercício 1\n",
        "\n",
        "Altere o algoritmo acima para que ele realize a busca em profundidade. Sabendo que a diferença entre o BFS e o DFS diz respeito à estrutura de dados utilizada para implementar a fila, a seguinte documentação pode lhe ser útil: https://docs.python.org/2/library/collections.html#collections.deque"
      ]
    },
    {
      "cell_type": "code",
      "metadata": {
        "id": "-pSmrnxriKEz",
        "colab_type": "code",
        "colab": {}
      },
      "source": [
        "def dfs(graph, root):\n",
        "    visited, queue = set(), collections.deque([root])\n",
        "    visited.add(root)\n",
        "    while queue: \n",
        "        vertex = queue.pop()\n",
        "        print(vertex)\n",
        "        for neighbour in graph[vertex]: \n",
        "            if neighbour not in visited: \n",
        "                visited.add(neighbour) \n",
        "                queue.append(neighbour) "
      ],
      "execution_count": 0,
      "outputs": []
    },
    {
      "cell_type": "code",
      "metadata": {
        "id": "3Hk9WYcIr2Ny",
        "colab_type": "code",
        "colab": {}
      },
      "source": [
        "graph3 = {\n",
        "    0: [1, 2], \n",
        "    1: [3, 4], \n",
        "    2: [6, 7], \n",
        "    3: [5], \n",
        "    4: [0], \n",
        "    5: [0], \n",
        "    6: [0],\n",
        "    7: [8],\n",
        "    8: [0]\n",
        "}"
      ],
      "execution_count": 0,
      "outputs": []
    },
    {
      "cell_type": "code",
      "metadata": {
        "id": "TaQkFRvsr8x9",
        "colab_type": "code",
        "outputId": "ea5cf815-f7c8-47fd-8704-ee7ef715edef",
        "colab": {
          "base_uri": "https://localhost:8080/",
          "height": 185
        }
      },
      "source": [
        "print('Ordem de visitação do DFS no graph3:')\n",
        "dfs(graph3, 0)"
      ],
      "execution_count": 0,
      "outputs": [
        {
          "output_type": "stream",
          "text": [
            "Ordem de visitação do DFS no graph3:\n",
            "0\n",
            "2\n",
            "7\n",
            "8\n",
            "6\n",
            "1\n",
            "4\n",
            "3\n",
            "5\n"
          ],
          "name": "stdout"
        }
      ]
    },
    {
      "cell_type": "markdown",
      "metadata": {
        "id": "4G0K7PhjiWQF",
        "colab_type": "text"
      },
      "source": [
        "### Exercício 2\n",
        "\n",
        "Crie um grafo maior (e.g., o mapa da Romênia). Em seguida, execute os dois algoritmos acima e compare a ordem com que os nós são visitados. Qual dos dois algoritmos é melhor? Por que?"
      ]
    },
    {
      "cell_type": "code",
      "metadata": {
        "id": "uxT8QsFzwrSz",
        "colab_type": "code",
        "outputId": "cb163d11-cd90-4aae-dd69-f9a50597276c",
        "colab": {
          "base_uri": "https://localhost:8080/",
          "height": 739
        }
      },
      "source": [
        "graphRomania = {\n",
        "    'Arad': ['Zerind', 'Sibiu', 'Timisoara'], \n",
        "    'Zerind': ['Arad', 'Oradea'], \n",
        "    'Oradea': ['Zerind', 'Sibiu'],\n",
        "    'Timisoara': ['Arad', 'Lugoj'],\n",
        "    'Lugoj': ['Timisoara', 'Mehadia'],\n",
        "    'Mehadia': ['Lugoj', 'Drobeta'],\n",
        "    'Drobeta': ['Mehadia', 'Craiova'],\n",
        "    'Sibiu': ['Oradea', 'Fagaras', 'Rimnicu Vilcea', 'Arad'], \n",
        "    'Rimnicu Vilcea': ['Sibiu', 'Pitesti', 'Craiova'],\n",
        "    'Craiova': ['Drobeta', 'Rimnicu Vilcea', 'Pitesti'],\n",
        "    'Pitesti': ['Rimnicu Vilcea', 'Craiova', 'Bucharest'],\n",
        "    'Fagaras': ['Sibiu', 'Bucharest'],\n",
        "    'Bucharest': ['Fagaras', 'Pitesti', 'Giurgiu', 'Urziceni'],\n",
        "    'Giurgiu': ['Bucharest'],\n",
        "    'Urziceni': ['Bucharest', 'Vaslui', 'Hirsova'],\n",
        "    'Hirsova': ['Urziceni', 'Eforie'],\n",
        "    'Eforie': ['Hirsova'],\n",
        "    'Vaslui': ['Urziceni', 'Iasi'],\n",
        "    'Iasi': ['Vaslui', 'Neamt'],\n",
        "    'Neamt': ['Iasi']\n",
        "}\n",
        "\n",
        "print('Ordem de visitação do BFS:')\n",
        "bfs(graphRomania, 'Arad')\n",
        "\n",
        "print('\\nOrdem de visitação do DFS:')\n",
        "dfs(graphRomania, 'Arad')"
      ],
      "execution_count": 0,
      "outputs": [
        {
          "output_type": "stream",
          "text": [
            "Ordem de visitação do BFS:\n",
            "Arad\n",
            "Zerind\n",
            "Sibiu\n",
            "Timisoara\n",
            "Oradea\n",
            "Fagaras\n",
            "Rimnicu Vilcea\n",
            "Lugoj\n",
            "Bucharest\n",
            "Pitesti\n",
            "Craiova\n",
            "Mehadia\n",
            "Giurgiu\n",
            "Urziceni\n",
            "Drobeta\n",
            "Vaslui\n",
            "Hirsova\n",
            "Iasi\n",
            "Eforie\n",
            "Neamt\n",
            "\n",
            "Ordem de visitação do DFS:\n",
            "Arad\n",
            "Timisoara\n",
            "Lugoj\n",
            "Mehadia\n",
            "Drobeta\n",
            "Craiova\n",
            "Pitesti\n",
            "Bucharest\n",
            "Urziceni\n",
            "Hirsova\n",
            "Eforie\n",
            "Vaslui\n",
            "Iasi\n",
            "Neamt\n",
            "Giurgiu\n",
            "Fagaras\n",
            "Rimnicu Vilcea\n",
            "Sibiu\n",
            "Oradea\n",
            "Zerind\n"
          ],
          "name": "stdout"
        }
      ]
    },
    {
      "cell_type": "markdown",
      "metadata": {
        "id": "7d2MlIRxi00s",
        "colab_type": "text"
      },
      "source": [
        "Depende, o BFS é bom se for preciso procurar em pequenos caminhos pois é feito uma varredura na vertical considerado todos vizinhos. E isso pode ser de grande impacto em procuras muito grandes devido a abertura de nodos a cada linha vertical explorada.\n",
        "\n",
        "O DFS talvez seja melhor em casos que é necessário explorar todos os caminhos para achar um resultado. Se um elemento se encontrar mais abaixo, a possibilidade de ele achar primeiro que o BFS é maior, já que explora até o último nível para cada nodo conectado ao pai."
      ]
    },
    {
      "cell_type": "markdown",
      "metadata": {
        "id": "sWEZvXOvhvFD",
        "colab_type": "text"
      },
      "source": [
        "## Parte 2 - busca informada\n",
        "\n",
        "Abaixo, temos uma implementação incompleta do algoritmo A*."
      ]
    },
    {
      "cell_type": "code",
      "metadata": {
        "id": "TPiRQBMXzoSR",
        "colab_type": "code",
        "colab": {}
      },
      "source": [
        "class Node():\n",
        "    def __init__(self, parent=None, position=None):\n",
        "        self.parent = parent\n",
        "        self.position = position\n",
        "\n",
        "        self.g = 0\n",
        "        self.h = 0\n",
        "        self.f = 0\n",
        "\n",
        "    def __eq__(self, other):\n",
        "        return self.position == other.position\n",
        "\n",
        "\n",
        "def astar(maze, start, end, heuristic, d, d2 = 0):\n",
        "    \n",
        "    # Create start and end node\n",
        "    start_node = Node(None, start)\n",
        "    start_node.g = start_node.h = start_node.f = 0\n",
        "    end_node = Node(None, end)\n",
        "    end_node.g = end_node.h = end_node.f = 0\n",
        "\n",
        "    # Initialize both open and closed list\n",
        "    open_list = []\n",
        "    closed_list = []\n",
        "\n",
        "    # Add the start node\n",
        "    open_list.append(start_node)\n",
        "\n",
        "    # Loop until you find the end\n",
        "    while len(open_list) > 0:\n",
        "\n",
        "        # Get the current node\n",
        "        current_node = open_list[0]\n",
        "        current_index = 0\n",
        "        for index, item in enumerate(open_list):\n",
        "            if item.f < current_node.f:\n",
        "                current_node = item\n",
        "                current_index = index\n",
        "\n",
        "        # Pop current off open list, add to closed list\n",
        "        open_list.pop(current_index)\n",
        "        closed_list.append(current_node)\n",
        "\n",
        "        # Found the goal\n",
        "        if current_node == end_node:\n",
        "            path = []\n",
        "            current = current_node\n",
        "            while current is not None:\n",
        "                path.append(current.position)\n",
        "                current = current.parent\n",
        "            return path[::-1] # Return reversed path\n",
        "\n",
        "        # Generate children\n",
        "        children = []\n",
        "        for new_position in [(0, -1), (0, 1), (-1, 0), (1, 0), (-1, -1), (-1, 1), (1, -1), (1, 1)]: # Adjacent squares\n",
        "\n",
        "            # Get node position\n",
        "            node_position = (current_node.position[0] + new_position[0], current_node.position[1] + new_position[1])\n",
        "\n",
        "            # Make sure within range\n",
        "            if node_position[0] > (len(maze) - 1) or node_position[0] < 0 or node_position[1] > (len(maze[len(maze)-1]) -1) or node_position[1] < 0:\n",
        "                continue\n",
        "\n",
        "            # Make sure walkable terrain\n",
        "            if maze[node_position[0]][node_position[1]] != 0:\n",
        "                continue\n",
        "\n",
        "            # Create new node\n",
        "            new_node = Node(current_node, node_position)\n",
        "\n",
        "            # Append\n",
        "            children.append(new_node)\n",
        "\n",
        "        # Loop through children\n",
        "        for child in children:\n",
        "\n",
        "            # Child is on the closed list\n",
        "            for closed_child in closed_list:\n",
        "                if child == closed_child:\n",
        "                    continue\n",
        "\n",
        "            # Create the f, g, and h values\n",
        "            child.g = current_node.g + 1\n",
        "            child.h = heuristic(child.position[0], child.position[1], end_node.position[0], end_node.position[1], d, d2)\n",
        "            child.f = child.g + child.h\n",
        "\n",
        "            # Child is already in the open list\n",
        "            for open_node in open_list:\n",
        "                if child == open_node and child.g > open_node.g:\n",
        "                    continue\n",
        "\n",
        "            # Add the child to the open list\n",
        "            open_list.append(child)"
      ],
      "execution_count": 0,
      "outputs": []
    },
    {
      "cell_type": "code",
      "metadata": {
        "id": "Ox_EV6m0Eq12",
        "colab_type": "code",
        "colab": {}
      },
      "source": [
        "def f_heuristica(x1, y1, x2, y2, d, d2 = 0):\n",
        "    return ((x1-x2) ** d) + ((y1-y2) ** d)"
      ],
      "execution_count": 0,
      "outputs": []
    },
    {
      "cell_type": "markdown",
      "metadata": {
        "id": "wpQSZzbTKIWt",
        "colab_type": "text"
      },
      "source": [
        "O código abaixo cria um ambiente do tipo labirinto."
      ]
    },
    {
      "cell_type": "code",
      "metadata": {
        "id": "IEA9W-juKIhL",
        "colab_type": "code",
        "colab": {}
      },
      "source": [
        "maze = [[0, 0, 0, 0, 1, 0, 0, 0, 0, 0],\n",
        "        [0, 0, 0, 0, 1, 0, 0, 0, 0, 0],\n",
        "        [0, 0, 0, 0, 1, 0, 0, 0, 0, 0],\n",
        "        [0, 0, 0, 0, 1, 0, 0, 0, 0, 0],\n",
        "        [0, 0, 0, 0, 1, 0, 0, 0, 0, 0],\n",
        "        [0, 0, 0, 0, 0, 0, 0, 0, 0, 0],\n",
        "        [0, 0, 0, 0, 1, 0, 0, 0, 0, 0],\n",
        "        [0, 0, 0, 0, 1, 0, 0, 0, 0, 0],\n",
        "        [0, 0, 0, 0, 1, 0, 0, 0, 0, 0],\n",
        "        [0, 0, 0, 0, 0, 0, 0, 0, 0, 0]]\n",
        "\n",
        "start = (0, 0)\n",
        "end = (7, 6)"
      ],
      "execution_count": 0,
      "outputs": []
    },
    {
      "cell_type": "markdown",
      "metadata": {
        "id": "wMdch1HGKUvN",
        "colab_type": "text"
      },
      "source": [
        "Para executar o algoritmo, basta executar o seguinte."
      ]
    },
    {
      "cell_type": "code",
      "metadata": {
        "id": "DHGX4dw7KU52",
        "colab_type": "code",
        "outputId": "7a5b8d5a-6ddf-40e2-bc82-f13a6c734299",
        "colab": {
          "base_uri": "https://localhost:8080/",
          "height": 34
        }
      },
      "source": [
        "path = astar(maze, start, end, f_heuristica, 2)\n",
        "print(path)"
      ],
      "execution_count": 51,
      "outputs": [
        {
          "output_type": "stream",
          "text": [
            "[(0, 0), (1, 1), (2, 2), (3, 3), (4, 3), (5, 4), (6, 5), (7, 6)]\n"
          ],
          "name": "stdout"
        }
      ]
    },
    {
      "cell_type": "markdown",
      "metadata": {
        "id": "LDgMRBxejNrj",
        "colab_type": "text"
      },
      "source": [
        "### Exercício 3\n",
        "\n",
        "Implemente as seguintes heurísticas: distância Euclidiana e distância de Manhattan."
      ]
    },
    {
      "cell_type": "code",
      "metadata": {
        "id": "GrMA5Fe-jefw",
        "colab_type": "code",
        "colab": {}
      },
      "source": [
        "def h_euclidiana(x1, y1, x2, y2, d, d2 = 0):\n",
        "  \"\"\"euclidean distance heuristics\"\"\"\n",
        "  dx = abs(x1 - x2)\n",
        "  dy = abs(y1 - y2)\n",
        "  return d * math.sqrt(dx * dx + dy * dy)  "
      ],
      "execution_count": 0,
      "outputs": []
    },
    {
      "cell_type": "code",
      "metadata": {
        "id": "tWZho5izje9P",
        "colab_type": "code",
        "colab": {}
      },
      "source": [
        "def h_manhattan(x1, y1, x2, y2, d, d2 = 0):\n",
        "  \"\"\"manhattan heuristics\"\"\"    \n",
        "  dx = abs(x1 - x2)\n",
        "  dy = abs(y1 - y2)\n",
        "  return d * (dx + dy)"
      ],
      "execution_count": 0,
      "outputs": []
    },
    {
      "cell_type": "markdown",
      "metadata": {
        "id": "z4Gna9ZKjurQ",
        "colab_type": "text"
      },
      "source": [
        "### Exercício 4\n",
        "\n",
        "Crie uma terceira heurística à sua escolha."
      ]
    },
    {
      "cell_type": "code",
      "metadata": {
        "id": "RZnsCtxAj1zH",
        "colab_type": "code",
        "colab": {}
      },
      "source": [
        "def h_diagonal(x1, y1, x2, y2, d, d2):\n",
        "  \"\"\"diagonal distance\"\"\"\n",
        "  \"\"\"chebyshev distance when D = 1 and D2 = 1\"\"\"\n",
        "  \"\"\"octile distance when D = 1 and D2 = sqrt(2)\"\"\"\n",
        "  dx = abs(x1 - x2)\n",
        "  dy = abs(y1 - y2)\n",
        "  return d * (dx + dy) + (d2 - 2 * d) * min(dx, dy)"
      ],
      "execution_count": 0,
      "outputs": []
    },
    {
      "cell_type": "markdown",
      "metadata": {
        "id": "YfNmhM-mj6wW",
        "colab_type": "text"
      },
      "source": [
        "### Exercício 5\n",
        "\n",
        "Exercute o algoritmo A* com as três heurísticas acima e compare o resultado."
      ]
    },
    {
      "cell_type": "code",
      "metadata": {
        "id": "YlGXh2o3kCD0",
        "colab_type": "code",
        "colab": {
          "base_uri": "https://localhost:8080/",
          "height": 34
        },
        "outputId": "3b532419-a0f4-4851-db45-2b9f57a32c92"
      },
      "source": [
        "path = astar(maze, start, end, h_euclidiana, 2)\n",
        "print(path)"
      ],
      "execution_count": 54,
      "outputs": [
        {
          "output_type": "stream",
          "text": [
            "[(0, 0), (1, 1), (2, 2), (3, 3), (4, 3), (5, 4), (6, 5), (7, 6)]\n"
          ],
          "name": "stdout"
        }
      ]
    },
    {
      "cell_type": "code",
      "metadata": {
        "id": "CUNbQae-9uI6",
        "colab_type": "code",
        "colab": {
          "base_uri": "https://localhost:8080/",
          "height": 34
        },
        "outputId": "f3a5f9ad-5392-4990-94d8-ee23974da70a"
      },
      "source": [
        "path = astar(maze, start, end, h_manhattan, 2)\n",
        "print(path)"
      ],
      "execution_count": 55,
      "outputs": [
        {
          "output_type": "stream",
          "text": [
            "[(0, 0), (1, 1), (2, 2), (3, 3), (4, 3), (5, 4), (6, 5), (7, 6)]\n"
          ],
          "name": "stdout"
        }
      ]
    },
    {
      "cell_type": "code",
      "metadata": {
        "id": "-WRHdUdjDIos",
        "colab_type": "code",
        "colab": {
          "base_uri": "https://localhost:8080/",
          "height": 34
        },
        "outputId": "dd411b45-b5d5-4ea3-d1db-e90683138d4d"
      },
      "source": [
        "# chebyshev distance\n",
        "path = astar(maze, start, end, h_diagonal, 1, 1)\n",
        "print(path)"
      ],
      "execution_count": 56,
      "outputs": [
        {
          "output_type": "stream",
          "text": [
            "[(0, 0), (1, 0), (2, 1), (3, 2), (4, 3), (5, 4), (6, 5), (7, 6)]\n"
          ],
          "name": "stdout"
        }
      ]
    },
    {
      "cell_type": "code",
      "metadata": {
        "id": "SubznGFMGCWO",
        "colab_type": "code",
        "colab": {
          "base_uri": "https://localhost:8080/",
          "height": 34
        },
        "outputId": "b0ced3ca-bfce-4b0d-e4d3-c3281bcb856c"
      },
      "source": [
        "# octile\n",
        "path = astar(maze, start, end, h_diagonal, 1, math.sqrt(2))\n",
        "print(path)"
      ],
      "execution_count": 57,
      "outputs": [
        {
          "output_type": "stream",
          "text": [
            "[(0, 0), (1, 1), (2, 2), (3, 3), (4, 3), (5, 4), (6, 5), (7, 6)]\n"
          ],
          "name": "stdout"
        }
      ]
    },
    {
      "cell_type": "markdown",
      "metadata": {
        "id": "mn_Pj4aNkG0E",
        "colab_type": "text"
      },
      "source": [
        "Fonte para consulta: [Heuristics](http://theory.stanford.edu/~amitp/GameProgramming/Heuristics.html)"
      ]
    }
  ]
}