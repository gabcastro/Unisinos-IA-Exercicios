{
  "nbformat": 4,
  "nbformat_minor": 0,
  "metadata": {
    "colab": {
      "name": "GA_ia.ipynb",
      "provenance": [],
      "collapsed_sections": []
    },
    "kernelspec": {
      "name": "python3",
      "display_name": "Python 3"
    }
  },
  "cells": [
    {
      "cell_type": "markdown",
      "metadata": {
        "id": "7kMPnPNFtL8w",
        "colab_type": "text"
      },
      "source": [
        "# Inteligêncial articial (2020/01)\n",
        "### Trabalho em Grupo do Grau A\n",
        "\n",
        "*Graph coloring problem (GCP)*\n",
        "\n",
        "Integrantes:\n",
        "*   Anderson\n",
        "*   Felipe Silva\n",
        "*   Gabriel Castro\n",
        "*   Lucas Oliveira\n",
        "\n",
        "Prof. Gabriel de Oliveira Ramos\n",
        "\n",
        "---"
      ]
    },
    {
      "cell_type": "markdown",
      "metadata": {
        "id": "gc2Qu6eDvqGN",
        "colab_type": "text"
      },
      "source": [
        "# Definições do problema\n",
        "\n",
        "O problema de coloração de grafos é definido por um conjuto de n nós.  O grafo resultante representa um mapa, onde os nós representam porções territoriais de países e as arestas representam a adjacência entre os territórios (territórios conectados são considerados vizinhos).\n",
        "\n",
        "O objetivo deste *notebook* é criar um algoritmo que definirá uma cor para cada nó de modo que nós adjacentes (vizinhança) não possuam a mesma cor. E ao mesmo tempo, deve-se minimizar a quantidade de cores utilizadas.\n",
        "\n",
        "**As intâncias disponíveis são:**\n",
        "*   anna (coloração completa com 11 cores)\n",
        "*   games120 (coloração completa com 9 cores)\n",
        "*   myciel6 (coloração completa com 7 cores)\n",
        "\n",
        "**Input de dados**\n",
        "\n",
        "Os territórios são definidos através de um arquivo carregado, sendo ele formatado da seguinte maneira:\n",
        "*   1º: tamanho do problema definido na primeira linha, onde:\n",
        "    *  segundo item da linha define a quantidade de nós\n",
        "    *  terceiro item da linha define a quantidade de arestas\n",
        "*   2º: demais linhas representam as arestas do grafo, para isso:\n",
        "    *  representamos a conexão entre um país e outro através de uma tupla\n",
        "\n",
        "Para exemplo, demonstramos abaixo o formato do arquivo, com uma breve explicação de cada linha:\n",
        "\n",
        "```\n",
        "    p 10,19      --> 10: nós | 19: arestas\n",
        "    0,9          --> brasil - venezuela\n",
        "    0,7          --> brasil - colômbia\n",
        "    0,6          --> brasil - peru\n",
        "    ...\n",
        "```\n",
        "\n",
        "> Obs.: esse é um exemplo apenas para iniciar o desenvolvimento, contudo os txt originais possuem mais dados\n",
        "---\n"
      ]
    },
    {
      "cell_type": "markdown",
      "metadata": {
        "id": "hdQHNJb-vhDW",
        "colab_type": "text"
      },
      "source": [
        "# Inicializações necessárias"
      ]
    },
    {
      "cell_type": "code",
      "metadata": {
        "id": "_ruNS7xztHtM",
        "colab_type": "code",
        "colab": {}
      },
      "source": [
        "import io\n",
        "import pandas as pd\n",
        "import random\n",
        "import bisect\n",
        "from google.colab import files\n",
        "import matplotlib\n",
        "import matplotlib.pyplot as plt\n",
        "import numpy as np"
      ],
      "execution_count": 0,
      "outputs": []
    },
    {
      "cell_type": "code",
      "metadata": {
        "id": "soM7H-3tCak3",
        "colab_type": "code",
        "outputId": "83043c65-470d-4dd7-b2a2-6ddd2784382f",
        "colab": {
          "resources": {
            "http://localhost:8080/nbextensions/google.colab/files.js": {
              "data": "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",
              "ok": true,
              "headers": [
                [
                  "content-type",
                  "application/javascript"
                ]
              ],
              "status": 200,
              "status_text": ""
            }
          },
          "base_uri": "https://localhost:8080/",
          "height": 75
        }
      },
      "source": [
        "uploaded_countries = files.upload()"
      ],
      "execution_count": 34,
      "outputs": [
        {
          "output_type": "display_data",
          "data": {
            "text/html": [
              "\n",
              "     <input type=\"file\" id=\"files-d3ed5992-60cd-4ffd-8719-c4b2b012775f\" name=\"files[]\" multiple disabled />\n",
              "     <output id=\"result-d3ed5992-60cd-4ffd-8719-c4b2b012775f\">\n",
              "      Upload widget is only available when the cell has been executed in the\n",
              "      current browser session. Please rerun this cell to enable.\n",
              "      </output>\n",
              "      <script src=\"/nbextensions/google.colab/files.js\"></script> "
            ],
            "text/plain": [
              "<IPython.core.display.HTML object>"
            ]
          },
          "metadata": {
            "tags": []
          }
        },
        {
          "output_type": "stream",
          "text": [
            "Saving connected_countries.txt to connected_countries.txt\n"
          ],
          "name": "stdout"
        }
      ]
    },
    {
      "cell_type": "markdown",
      "metadata": {
        "id": "o20MlNZ4smYq",
        "colab_type": "text"
      },
      "source": [
        "Para iniciar, vamos usar a função `read_csv` da biblioteca pandas. Ela permite fazermos a leitura do arquivo carregado anteriormente, acessando assim os elementos necessários. \n",
        "\n",
        "Note que o arquivo está sem cabeçalho, porém seria possível a utilização de um dentro do arquivo. Mas por escolha, foi definido ter somente os dados.\n",
        "\n",
        "E já que não inserimos o nome das colunas no arquivo, o próprio DataFrame define como padrão o nome delas, enumerando de 0 até n quantidade de colunas - 1. Isso é uma coisa ruim para acessos posteriores, portanto, usamos a função `rename` para alterá-las."
      ]
    },
    {
      "cell_type": "code",
      "metadata": {
        "id": "i-LeuGI-CqvT",
        "colab_type": "code",
        "colab": {}
      },
      "source": [
        "# comment if local run\n",
        "df = pd.read_csv(io.BytesIO(uploaded_countries['connected_countries.txt']), header=None, delim_whitespace=True)\n",
        "df.rename(columns={\n",
        "    0: 'x',\n",
        "    1: 'y',\n",
        "    2: 'z'\n",
        "}, inplace=True)\n",
        "\n",
        "# uncomment if local run\n",
        "# df = pd.read_csv('D:\\\\Repositórios\\\\GitHub\\\\Personal\\\\Unisinos-IA-Exercicios\\\\Trabalho_GA\\\\connected_countries.txt', header=None, delim_whitespace=True)\n",
        "# df.rename(columns={\n",
        "#     0: 'x_country',\n",
        "#     1: 'y_country'\n",
        "# }, inplace=True)"
      ],
      "execution_count": 0,
      "outputs": []
    },
    {
      "cell_type": "code",
      "metadata": {
        "id": "kU1YnLphycFc",
        "colab_type": "code",
        "outputId": "8a65af60-38a7-4918-9560-623fe2f5a77f",
        "colab": {
          "base_uri": "https://localhost:8080/",
          "height": 198
        }
      },
      "source": [
        "df.head()"
      ],
      "execution_count": 36,
      "outputs": [
        {
          "output_type": "execute_result",
          "data": {
            "text/html": [
              "<div>\n",
              "<style scoped>\n",
              "    .dataframe tbody tr th:only-of-type {\n",
              "        vertical-align: middle;\n",
              "    }\n",
              "\n",
              "    .dataframe tbody tr th {\n",
              "        vertical-align: top;\n",
              "    }\n",
              "\n",
              "    .dataframe thead th {\n",
              "        text-align: right;\n",
              "    }\n",
              "</style>\n",
              "<table border=\"1\" class=\"dataframe\">\n",
              "  <thead>\n",
              "    <tr style=\"text-align: right;\">\n",
              "      <th></th>\n",
              "      <th>x</th>\n",
              "      <th>y</th>\n",
              "      <th>z</th>\n",
              "    </tr>\n",
              "  </thead>\n",
              "  <tbody>\n",
              "    <tr>\n",
              "      <th>0</th>\n",
              "      <td>p</td>\n",
              "      <td>15</td>\n",
              "      <td>27.0</td>\n",
              "    </tr>\n",
              "    <tr>\n",
              "      <th>1</th>\n",
              "      <td>0</td>\n",
              "      <td>9</td>\n",
              "      <td>NaN</td>\n",
              "    </tr>\n",
              "    <tr>\n",
              "      <th>2</th>\n",
              "      <td>0</td>\n",
              "      <td>7</td>\n",
              "      <td>NaN</td>\n",
              "    </tr>\n",
              "    <tr>\n",
              "      <th>3</th>\n",
              "      <td>0</td>\n",
              "      <td>6</td>\n",
              "      <td>NaN</td>\n",
              "    </tr>\n",
              "    <tr>\n",
              "      <th>4</th>\n",
              "      <td>0</td>\n",
              "      <td>4</td>\n",
              "      <td>NaN</td>\n",
              "    </tr>\n",
              "  </tbody>\n",
              "</table>\n",
              "</div>"
            ],
            "text/plain": [
              "   x   y     z\n",
              "0  p  15  27.0\n",
              "1  0   9   NaN\n",
              "2  0   7   NaN\n",
              "3  0   6   NaN\n",
              "4  0   4   NaN"
            ]
          },
          "metadata": {
            "tags": []
          },
          "execution_count": 36
        }
      ]
    },
    {
      "cell_type": "markdown",
      "metadata": {
        "id": "ztqXhv_XslFi",
        "colab_type": "text"
      },
      "source": [
        "Com os dados já armazenados no DataFrame, passamos a separá-los em duas estruturas de dados:\n",
        "*   Tupla para a definição do problema (quantidade de nós e arestas);\n",
        "*   Dicionário com listas combinando dados conectados através das arestas.\n",
        "\n",
        "Como exemplo, segue uma exemplificação das conexões entre as arestas.\n",
        "\n",
        "<img src=\"https://raw.githubusercontent.com/gabcastro/Unisinos-IA-Exercicios/master/Trabalho_GA/graph_colors_countries.jpg\" alt=\"Exemplo de conexões\" height=\"480\">"
      ]
    },
    {
      "cell_type": "code",
      "metadata": {
        "id": "tZQwz81QDr9w",
        "colab_type": "code",
        "colab": {}
      },
      "source": [
        "problem_length = (int(df.iloc[0]['y']), int(df.iloc[0]['z']))     # tuple with len of nodes and edges\n",
        "\n",
        "countries = {\n",
        "    0: 'BR',    # Brasil\n",
        "    1: 'UY',    # Uruguai\n",
        "    2: 'PY',    # Paraguai\n",
        "    3: 'AR',    # Argentina\n",
        "    4: 'BO',    # Bolívia\n",
        "    5: 'CH',    # Chile\n",
        "    6: 'PE',    # Peru\n",
        "    7: 'CO',    # Colômbia\n",
        "    8: 'EC',    # Ecuador\n",
        "    9: 'VE',    # Venezuela\n",
        "    10: 'GY',   # Guiana\n",
        "    11: 'SR',   # Suriname\n",
        "    12: 'GF',   # Guiana Francesa\n",
        "    13: 'PA',   # Panamá\n",
        "    14: 'CR'    # Costa Rica\n",
        "}\n",
        "\n",
        "connected_countries = {}\n",
        "\n",
        "for index, row in df.tail(len(df)-1).iterrows():\n",
        "    str_countries = countries.get(int(row['x'])) + '-' + countries.get(row['y'])\n",
        "    # connected_countries[str(random.randrange(0, 2000))] = [int(row['x']), row['y']]\n",
        "    connected_countries[str_countries] = [int(row['x']), row['y']]\n",
        "\n",
        "# set of possible colours (pink, orange, green, gray, purple, yellow, blue, red, white, brown, black)\n",
        "possible_values = ['P', 'O', 'GN', 'GY', 'P', 'Y', 'B', 'R', 'W', 'BR', 'BK'] "
      ],
      "execution_count": 0,
      "outputs": []
    },
    {
      "cell_type": "markdown",
      "metadata": {
        "id": "4jm6AZWF8hYH",
        "colab_type": "text"
      },
      "source": [
        "# Algoritmo de busca para solução do problema\n",
        "\n",
        "Para o problema de coloração de grafos, foi escolhido usar o algoritmo genético pois permite uma busca mais variada, diferente do Hill Climbing que após achar o primeiro ótimo local encerra a solução do problema.\n",
        "\n",
        "Os AGs começam com um conjunto de *k* estados gerados aleatoriamente, chamado **população**. Cada estado, ou **indivíduo**, é representado como uma cadeia sobre um alfabeto finito. \n",
        "\n",
        "A produção de uma nova geração passa por algumas etapas, onde seguem uma sequência de passos:\n",
        "\n",
        "*   **Função de adaptação (fitness)**: Retorna valores mais altos para estados melhores. A probabilidade de um indivíduo ser escolhido para reprodução é diretamente proporcional à sua pontuação de adaptação.\n",
        "*   **Seleção**: Dois pares escolhidos aleatoriamente são selecionados para reprodução, de acordo com as probabilidades da função fitness.\n",
        "*   **Cruzamento (*Crossover*)**: Pares são cruzados, a escolha é realizada ao acaso em um ponto de cruzamento dentre as posições na cadeia. Os próprios descendentes são criados por cruzamento das cadeias pais no ponto de crossover.\n",
        "Ainda pode acontecer de dois estados pais serem bastante diferentes, fazendo com que a operação de cruzamento produza um estado que está longe do estado de qualquer pai.\n",
        "*   **Mutação**: Cada posição está sujeita à mutação aleatória com uma pequena probabilidade independente.\n",
        "\n",
        "---\n"
      ]
    },
    {
      "cell_type": "markdown",
      "metadata": {
        "id": "5slema1hMPeY",
        "colab_type": "text"
      },
      "source": [
        "Classe para calcular a aptidão de um indivíduo como o número de pares de territórios vizinhos que possuem cores diferentes."
      ]
    },
    {
      "cell_type": "code",
      "metadata": {
        "id": "FMmAlafI9ack",
        "colab_type": "code",
        "colab": {}
      },
      "source": [
        "class EvaluateGC:\n",
        "    \"\"\"Evaluation class.\n",
        "\n",
        "    Since that a solution needs to be evaluated with respect to the problem instance \n",
        "    in consideration, we created this class to store the problem instance and to \n",
        "    allow the evaluation to be performed without having the problem instance at hand.\n",
        "    \"\"\"\n",
        "    \n",
        "    # during initialization, store the problem instance\n",
        "    def __init__(self, problem_instance):\n",
        "        self.problem_instance = problem_instance\n",
        "    \n",
        "    # compute the value of the received solution\n",
        "    def __call__(self, solution):\n",
        "        return sum(solution[n1] != solution[n2] for (n1, n2) in self.problem_instance.values())"
      ],
      "execution_count": 0,
      "outputs": []
    },
    {
      "cell_type": "code",
      "metadata": {
        "id": "T4IGRL1xMjpd",
        "colab_type": "code",
        "colab": {}
      },
      "source": [
        "class GeneticAlgorithm:\n",
        "\n",
        "    def genetic_algorithm(self, population, fn_fitness, gene_pool, fn_thres=None, ngen=1000, pmut=0.1):\n",
        "        \"\"\" Population creation pipeline\n",
        "            \n",
        "            Keywords arguments:\n",
        "                population  -- initial population\n",
        "                fn_fitness  -- evaluation function (EvaluateGC)\n",
        "                gene_pool   -- set of possible values for each position of the solution\n",
        "                fn_thres    -- stop criterion for solution quality (default None)\n",
        "                ngem        -- maximum number of generations (default 1000)\n",
        "                pmut        -- mutation probability (default 0.1)\n",
        "        \"\"\"\n",
        "    \n",
        "        # for each generation\n",
        "        for i in range(ngen):\n",
        "\n",
        "            # create a new population\n",
        "            new_population = []\n",
        "\n",
        "            # repeat to create len(population) individuals\n",
        "            for i in range(len(population)):\n",
        "            \n",
        "                # select the parents\n",
        "                p1, p2 = self.select(2, population, fn_fitness)\n",
        "\n",
        "                # recombine the parents, thus producing the child\n",
        "                child = self.recombine(p1, p2)\n",
        "\n",
        "                # mutate the child\n",
        "                child = self.mutate(child, gene_pool, pmut)\n",
        "\n",
        "                # add the child to the new population\n",
        "                new_population.append(child)\n",
        "\n",
        "            # move to the new population\n",
        "            population = new_population\n",
        "\n",
        "            # check if one of the individuals achieved a fitness of fn_thres; if so, return it\n",
        "            fittest_individual = self.fitness_threshold(fn_fitness, fn_thres, population)\n",
        "            if fittest_individual:\n",
        "                return fittest_individual\n",
        "\n",
        "        # return the individual with highest fitness\n",
        "        return max(population, key=fn_fitness)\n",
        "  \n",
        "\n",
        "    def fitness_threshold(self, fn_fitness, fn_thres, population):\n",
        "        \"\"\"Get the best individual of the received population and return it if its \n",
        "        fitness is higher than the specified threshold fn_thres\n",
        "        \"\"\"\n",
        "\n",
        "        if not fn_thres:\n",
        "            return None\n",
        "\n",
        "        fittest_individual = max(population, key=fn_fitness)\n",
        "        if fn_fitness(fittest_individual) >= fn_thres:\n",
        "            return fittest_individual\n",
        "\n",
        "        return None\n",
        "\n",
        "    \n",
        "    def select(self, r, population, fn_fitness):\n",
        "        \"\"\"Implements the genetic selection operator.\n",
        "        Genetic operator for selection of individuals; \n",
        "        This function implements roulette wheel selection, where individuals with \n",
        "        higher fitness are selected with higher probability.\n",
        "        \"\"\"\n",
        "\n",
        "        fitnesses = map(fn_fitness, population)\n",
        "        sampler = self.weighted_sampler(population, fitnesses)\n",
        "        return [sampler() for i in range(r)]\n",
        "\n",
        "    \n",
        "    def weighted_sampler(self, seq, weights):\n",
        "        \"\"\"Return a single sample from sequence. \n",
        "        The probability of a sample being returned is proportional to its weight\n",
        "        \"\"\"\n",
        "\n",
        "        totals = []\n",
        "        for w in weights:\n",
        "            totals.append(w + totals[-1] if totals else w)\n",
        "        return lambda: seq[bisect.bisect(totals, random.uniform(0, totals[-1]))]\n",
        "\n",
        "    \n",
        "    def recombine(self, x, y):\n",
        "        \"\"\"Genetic operator for recombination (crossover) of individuals.\n",
        "\n",
        "        This function implements single-point crossover, where the resulting individual\n",
        "        carries a portion [0,c] from parent x and a portion [c,n] from parent y, with \n",
        "        c selected at random.\n",
        "        \"\"\"\n",
        "\n",
        "        n = len(x)\n",
        "        c = random.randrange(0, n)\n",
        "        return x[:c] + y[c:]\n",
        "\n",
        "\n",
        "    def mutate(self, x, gene_pool, pmut):\n",
        "        \"\"\"Genetic operator for mutation. \n",
        "        \n",
        "        This function implements uniform mutation, where a single element of the \n",
        "        individual is selected at random and its value is changed by a randomly chosen \n",
        "        value (out of the possible values in gene_pool).\n",
        "        \"\"\"\n",
        "        \n",
        "        # if random >= pmut, then no mutation is performed\n",
        "        if random.uniform(0, 1) >= pmut:\n",
        "            return x\n",
        "\n",
        "        n = len(x)\n",
        "        g = len(gene_pool)\n",
        "        c = random.randrange(0, n) # gene to be mutated\n",
        "        r = random.randrange(0, g) # new value of the selected gene\n",
        "\n",
        "        new_gene = gene_pool[r]\n",
        "        return x[:c] + [new_gene] + x[c+1:]\n",
        "\n",
        "\n",
        "    def init_population(self, pop_number, gene_pool, state_length):\n",
        "        \"\"\"Generate init population. \n",
        "        \n",
        "        Will create a random population.\n",
        "\n",
        "        Keywords arguments:\n",
        "            pop_number      -- len of population\n",
        "            gene_pool       -- possible values to each element\n",
        "            state_length    -- number of genes for each individual\n",
        "        \"\"\"\n",
        "\n",
        "        g = len(gene_pool)\n",
        "        population = []\n",
        "        for i in range(pop_number):\n",
        "            # each individual is represented as an array with size state_length, \n",
        "            # where each position contains a value from gene_pool selected at random\n",
        "            new_individual = [gene_pool[random.randrange(0, g)] for j in range(state_length)]\n",
        "            population.append(new_individual)\n",
        "\n",
        "        return population"
      ],
      "execution_count": 0,
      "outputs": []
    },
    {
      "cell_type": "markdown",
      "metadata": {
        "id": "cK3HV5-bWsb1",
        "colab_type": "text"
      },
      "source": [
        "Agora que a classe do algoritmo genético está criada, podemos configurar alguns\n",
        "parâmetros necessários e executá-la para ver o primeiro resultado.\n",
        "\n",
        "Essa parte é realizada através do conjunto de 14 países conectados, com 27 arestas.\n",
        "\n",
        "A função `exectute_pop` recebe o número de cores para realizar a criação da população, e o número de rodadas (*n_runs*).\n",
        "A ideia de ser executado mais de uma vez, é apenas para ver se algoritimo realmente consegue solucionar retornando um valor satisfatório sempre, ou se em alguns casos é retornado valores diferentes.\n",
        "\n",
        "Dentro da função é definido três tamanhos de população através da lista `population_size`. Na sequência é executado para cada população a seleção, crossover e mutação, finalizando pela avaliação do resultado.\n",
        "\n",
        "A função então retorna duas listas, uma contendo a média das soluções para cada população. E a outra os nomes das pops."
      ]
    },
    {
      "cell_type": "code",
      "metadata": {
        "id": "8d-I9hzZWfjN",
        "colab_type": "code",
        "colab": {}
      },
      "source": [
        "def exectute_pop(num_colors, n_runs, print_msgs=False):\n",
        "    \"\"\"Running pipeline to solve problem\n",
        "    \n",
        "    Keywords arguments:\n",
        "        num_colors      - number of colors to set \n",
        "        n_runs          - number of executions\n",
        "        print_msgs      - print results or not (default False)\n",
        "\n",
        "    Return:\n",
        "        avg_pop         - a list with avg to each n_popuation\n",
        "        groups          - a list with the length of each population\n",
        "    \"\"\"\n",
        "\n",
        "    colors = [possible_values[j] for j in range(num_colors)]\n",
        "\n",
        "    # length of an individual (one position per territory)\n",
        "    individual_length = problem_length[0]\n",
        "\n",
        "    # population size\n",
        "    population_size = [3, 20, 200]\n",
        "\n",
        "    dict_avg_pop = {}\n",
        "    \n",
        "    for i in population_size:\n",
        "        dict_avg_pop[str(i)] = []    \n",
        "    \n",
        "    # evaluation class\n",
        "    fn_fitness = EvaluateGC(connected_countries)\n",
        "\n",
        "    for i in range(n_runs):\n",
        "        \n",
        "        # instance of generic algorithm\n",
        "        gen_alg = GeneticAlgorithm()\n",
        "\n",
        "        # list to record solutions for each population \n",
        "        solutions = []\n",
        "\n",
        "        for p in population_size:\n",
        "\n",
        "            # initial population\n",
        "            population = gen_alg.init_population(p, colors, individual_length)\n",
        "\n",
        "            # run the algoritm\n",
        "            solution = gen_alg.genetic_algorithm(population, fn_fitness, gene_pool=colors, fn_thres=problem_length[1])\n",
        "\n",
        "            solutions.append(solution)\n",
        "\n",
        "        ps = 1\n",
        "        for s in solutions:\n",
        "            # print the results\n",
        "            val = fn_fitness(s)\n",
        "            if print_msgs:\n",
        "                print('- {}º population'.format(ps))\n",
        "                print('- Length: {}'.format(population_size[ps-1]))\n",
        "                print('- Resulting solution: %s' % s)\n",
        "                print('- Value of resulting solution: %d\\n' % val)\n",
        "            \n",
        "            lista_temp = dict_avg_pop.get(str(population_size[ps-1]))\n",
        "            lista_temp.append(val)\n",
        "            dict_avg_pop[str(population_size[ps-1])] = lista_temp\n",
        "\n",
        "            ps += 1\n",
        "\n",
        "        if print_msgs: print('------------------------------------------')\n",
        "\n",
        "    avg_pop = []\n",
        "    groups = []\n",
        "\n",
        "    for population, list_values in dict_avg_pop.items():\n",
        "        groups.append(population)\n",
        "        \n",
        "        avg_pop.append(\n",
        "            float(\"{:.2f}\".format(\n",
        "                sum(list_values) / len(list_values)\n",
        "            ))\n",
        "        )\n",
        "\n",
        "    return avg_pop, groups"
      ],
      "execution_count": 0,
      "outputs": []
    },
    {
      "cell_type": "markdown",
      "metadata": {
        "id": "3C8bmNJidAGc",
        "colab_type": "text"
      },
      "source": [
        "A função abaixo foi definida para receber o retorno da `exectute_pop`, assim com o retorno dos dados, é possível montar um gráfico de barras para visualizar os resultados."
      ]
    },
    {
      "cell_type": "code",
      "metadata": {
        "id": "-IgiKZprN-AU",
        "colab_type": "code",
        "colab": {}
      },
      "source": [
        "def plot_result(avg_pop, groups):\n",
        "    labels = groups\n",
        "\n",
        "    x = np.arange(len(labels)) # the label locations\n",
        "    width = 0.5  # the width of the bars\n",
        "\n",
        "    fig, ax = plt.subplots()\n",
        "    rects1 = ax.bar(x, avg_pop, width)\n",
        "\n",
        "    # Add some text for labels, title and custom x-axis tick labels, etc.\n",
        "    ax.set_ylabel('Avg Solution')\n",
        "    ax.set_title('Avg Solution By Population Length')\n",
        "    ax.set_xticks(x)\n",
        "    ax.set_xticklabels(labels)\n",
        "    ax.legend()\n",
        "\n",
        "    for rect in rects1:\n",
        "        height = rect.get_height()\n",
        "        ax.annotate('{}'.format(height),\n",
        "                    xy=(rect.get_x() + rect.get_width() / 2, height),\n",
        "                    xytext=(0, 3),  # 3 points vertical offset\n",
        "                    textcoords=\"offset points\",\n",
        "                    ha='center', va='bottom')\n",
        "\n",
        "    fig.tight_layout()\n",
        "\n",
        "    plt.show()"
      ],
      "execution_count": 0,
      "outputs": []
    },
    {
      "cell_type": "code",
      "metadata": {
        "id": "10hhHuAvGfrN",
        "colab_type": "code",
        "colab": {}
      },
      "source": [
        "avg_pop, groups = exectute_pop(7,1)"
      ],
      "execution_count": 0,
      "outputs": []
    },
    {
      "cell_type": "code",
      "metadata": {
        "id": "olakG3nEXX85",
        "colab_type": "code",
        "outputId": "edfac6d3-ed0b-456e-cec6-c379b45c1356",
        "colab": {
          "base_uri": "https://localhost:8080/",
          "height": 315
        }
      },
      "source": [
        "plot_result(avg_pop, groups)"
      ],
      "execution_count": 0,
      "outputs": [
        {
          "output_type": "stream",
          "text": [
            "No handles with labels found to put in legend.\n"
          ],
          "name": "stderr"
        },
        {
          "output_type": "display_data",
          "data": {
            "image/png": "[encoded data removed]",
            "text/plain": [
              "<Figure size 432x288 with 1 Axes>"
            ]
          },
          "metadata": {
            "tags": [],
            "needs_background": "light"
          }
        }
      ]
    },
    {
      "cell_type": "code",
      "metadata": {
        "id": "pbJu6fxIXaSR",
        "colab_type": "code",
        "colab": {}
      },
      "source": [
        "avg_pop, groups = exectute_pop(9,3)"
      ],
      "execution_count": 0,
      "outputs": []
    },
    {
      "cell_type": "code",
      "metadata": {
        "id": "97YwQCE2XdDi",
        "colab_type": "code",
        "outputId": "35b0bd35-2684-418c-f7c0-4266f0159be9",
        "colab": {
          "base_uri": "https://localhost:8080/",
          "height": 315
        }
      },
      "source": [
        "plot_result(avg_pop, groups)"
      ],
      "execution_count": 0,
      "outputs": [
        {
          "output_type": "stream",
          "text": [
            "No handles with labels found to put in legend.\n"
          ],
          "name": "stderr"
        },
        {
          "output_type": "display_data",
          "data": {
            "image/png": "[encoded data removed]",
            "text/plain": [
              "<Figure size 432x288 with 1 Axes>"
            ]
          },
          "metadata": {
            "tags": [],
            "needs_background": "light"
          }
        }
      ]
    },
    {
      "cell_type": "code",
      "metadata": {
        "id": "qdkb7bCpXeHD",
        "colab_type": "code",
        "colab": {}
      },
      "source": [
        "avg_pop, groups = exectute_pop(11,3)"
      ],
      "execution_count": 0,
      "outputs": []
    },
    {
      "cell_type": "code",
      "metadata": {
        "id": "WtwuE2JkXd6c",
        "colab_type": "code",
        "outputId": "a00e5a0d-70b0-4c2c-dd7e-b3010d6ded89",
        "colab": {
          "base_uri": "https://localhost:8080/",
          "height": 315
        }
      },
      "source": [
        "plot_result(avg_pop, groups)"
      ],
      "execution_count": 0,
      "outputs": [
        {
          "output_type": "stream",
          "text": [
            "No handles with labels found to put in legend.\n"
          ],
          "name": "stderr"
        },
        {
          "output_type": "display_data",
          "data": {
            "image/png": "[encoded data removed]",
            "text/plain": [
              "<Figure size 432x288 with 1 Axes>"
            ]
          },
          "metadata": {
            "tags": [],
            "needs_background": "light"
          }
        }
      ]
    },
    {
      "cell_type": "markdown",
      "metadata": {
        "id": "qalX23mgdxix",
        "colab_type": "text"
      },
      "source": [
        "Como é possível ver nos resultados acima, foi definido três tamanhos de população, sendo elas: 3, 20 e 200. E para a solução de 27 arestas (ótimo caso), apenas em algumas execuções para a população de tamanho 3 que foi possível identificar uma certa dificuldade em chegar no resultado ótimo. \n",
        "\n",
        "Muito se deve as poucas rodadas realizadas (3), sendo mais difícil de realizar a melhor seleção entre as poucas combinações."
      ]
    },
    {
      "cell_type": "markdown",
      "metadata": {
        "id": "XElzAH5a5ywQ",
        "colab_type": "text"
      },
      "source": [
        "## Considerações\n",
        "\n",
        "O trabalho encontra-se incompleto visto que até o momento foi testado apenas com um arquivo criado para entendimento do problema, contudo no formato dos outros arquivos. Sendo necessário o carregamento dos mesmos para averiguar quais valores seriam resultantes e quais melhorias ou outros algs seriam necessários."
      ]
    },
    {
      "cell_type": "code",
      "metadata": {
        "id": "Al-S6dSN6vP1",
        "colab_type": "code",
        "colab": {}
      },
      "source": [
        ""
      ],
      "execution_count": 0,
      "outputs": []
    }
  ]
}