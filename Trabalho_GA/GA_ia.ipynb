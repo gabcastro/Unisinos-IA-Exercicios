{
  "nbformat": 4,
  "nbformat_minor": 0,
  "metadata": {
    "colab": {
      "name": "GA_ia.ipynb",
      "provenance": [],
      "collapsed_sections": []
    },
    "kernelspec": {
      "name": "python3",
      "display_name": "Python 3"
    }
  },
  "cells": [
    {
      "cell_type": "markdown",
      "metadata": {
        "id": "7kMPnPNFtL8w",
        "colab_type": "text"
      },
      "source": [
        "# Inteligêncial articial (2020/01)\n",
        "### Trabalho em Grupo do Grau A\n",
        "\n",
        "*Graph coloring problem (GCP)*\n",
        "\n",
        "Integrantes:\n",
        "*   Anderson\n",
        "*   Felipe Silva\n",
        "*   Gabriel Castro\n",
        "*   Lucas Oliveira\n",
        "\n",
        "Prof. Gabriel de Oliveira Ramos\n",
        "\n",
        "---"
      ]
    },
    {
      "cell_type": "markdown",
      "metadata": {
        "id": "gc2Qu6eDvqGN",
        "colab_type": "text"
      },
      "source": [
        "# Definições do problema\n",
        "\n",
        "O problema de coloração de grafos é definido por um conjuto de n nós.  O grafo resultante representa um mapa, onde os nós representam porções territoriais de países e as arestas representam a adjacência entre os territórios (territórios conectados são considerados vizinhos).\n",
        "\n",
        "O objetivo deste *notebook* é criar um algoritmo que definirá uma cor para cada nó de modo que nós adjacentes (vizinhança) não possuam a mesma cor. E ao mesmo tempo, deve-se minimizar a quantidade de cores utilizadas.\n",
        "\n",
        "**As intâncias disponíveis são:**\n",
        "*   anna (cloração completa com 11 cores)\n",
        "*   games120 (coloração completa com 9 cores)\n",
        "*   myciel6 (coloração completa com 7 cores)\n",
        "\n",
        "**Input de dados**\n",
        "\n",
        "Os territórios são definidos através de um arquivo carregado, sendo ele formatado da seguinte maneira:\n",
        "*   1º: tamanho do problema definido na primeira linha, onde:\n",
        "    *  segundo item da linha define a quantidade de nós\n",
        "    *  terceiro item da linha define a quantidade de arestas\n",
        "*   2º: demais linhas representam as arestas do grafo, para isso:\n",
        "    *  representamos a conexão entre um país e outro através de uma tupla\n",
        "\n",
        "Para exemplo, demonstramos abaixo o formato do arquivo, com uma breve explicação de cada linha:\n",
        "\n",
        "```\n",
        "    10,19          --> 10: nós | 19: arestas\n",
        "    br,ve          --> brasil - venezuela\n",
        "    br,co          --> brasil - colômbia\n",
        "    br,pe          --> brasil - perú\n",
        "    ...\n",
        "```\n",
        "---\n"
      ]
    },
    {
      "cell_type": "markdown",
      "metadata": {
        "id": "hdQHNJb-vhDW",
        "colab_type": "text"
      },
      "source": [
        "# Inicializações necessárias"
      ]
    },
    {
      "cell_type": "code",
      "metadata": {
        "id": "_ruNS7xztHtM",
        "colab_type": "code",
        "colab": {}
      },
      "source": [
        "import io\n",
        "import pandas as pd\n",
        "import random\n",
        "import bisect\n",
        "from google.colab import files"
      ],
      "execution_count": 0,
      "outputs": []
    },
    {
      "cell_type": "code",
      "metadata": {
        "id": "soM7H-3tCak3",
        "colab_type": "code",
        "outputId": "0f273401-d6f9-4ef9-c53e-6978bccbf542",
        "colab": {
          "resources": {
            "http://localhost:8080/nbextensions/google.colab/files.js": {
              "data": "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",
              "ok": true,
              "headers": [
                [
                  "content-type",
                  "application/javascript"
                ]
              ],
              "status": 200,
              "status_text": ""
            }
          },
          "base_uri": "https://localhost:8080/",
          "height": 74
        }
      },
      "source": [
        "uploaded_countries = files.upload()"
      ],
      "execution_count": 0,
      "outputs": [
        {
          "output_type": "display_data",
          "data": {
            "text/html": [
              "\n",
              "     <input type=\"file\" id=\"files-d1c79999-de0a-49e5-bb2c-56672a0ae051\" name=\"files[]\" multiple disabled />\n",
              "     <output id=\"result-d1c79999-de0a-49e5-bb2c-56672a0ae051\">\n",
              "      Upload widget is only available when the cell has been executed in the\n",
              "      current browser session. Please rerun this cell to enable.\n",
              "      </output>\n",
              "      <script src=\"/nbextensions/google.colab/files.js\"></script> "
            ],
            "text/plain": [
              "<IPython.core.display.HTML object>"
            ]
          },
          "metadata": {
            "tags": []
          }
        },
        {
          "output_type": "stream",
          "text": [
            "Saving conencted_countries.txt to conencted_countries (1).txt\n"
          ],
          "name": "stdout"
        }
      ]
    },
    {
      "cell_type": "markdown",
      "metadata": {
        "id": "o20MlNZ4smYq",
        "colab_type": "text"
      },
      "source": [
        "Para iniciar, vamos usar a função `read_csv` da biblioteca pandas. Ela permite fazermos a leitura do arquivo carregado anteriormente, acessando assim os elementos necessários. \n",
        "\n",
        "Note que deixamos o arquivo sem cabeçalho, porém seria possível a utilização de um dentro do arquivo. Mas por escolha, foi definido ter somente os dados.\n",
        "\n",
        "E já que não inserimos o nome das colunas no arquivo, o próprio DataFrame define como padrão o nome delas, enumerando de 0 até n quantidade de colunas - 1. Isso é uma coisa ruim para acessos posteriores, portanto, usamos a função `rename` para alterá-las."
      ]
    },
    {
      "cell_type": "code",
      "metadata": {
        "id": "i-LeuGI-CqvT",
        "colab_type": "code",
        "colab": {}
      },
      "source": [
        "df = pd.read_csv(io.BytesIO(uploaded_countries['conencted_countries.txt']), header=None)\n",
        "df.rename(columns={\n",
        "    0: 'x_country',\n",
        "    1: 'y_country'\n",
        "}, inplace=True)"
      ],
      "execution_count": 0,
      "outputs": []
    },
    {
      "cell_type": "markdown",
      "metadata": {
        "id": "ztqXhv_XslFi",
        "colab_type": "text"
      },
      "source": [
        "Com os dados já armazenados no DataFrame, passamos a separá-los em duas estruturas de dados:\n",
        "*   Tupla para a definição do problema (quantidade de nós e arestas);\n",
        "*   Dicionário com listas combinando países conectados através das arestas.\n",
        "\n",
        "Também foi definido um valor para cada país, através de um dicionário. Isso ajuda a identificar as arestas carregadas do arquivo.\n",
        "\n",
        "Um exemplo de conexões pode ser visto abaixo:\n",
        "\n",
        "<img src=\"https://raw.githubusercontent.com/gabcastro/Unisinos-IA-Exercicios/master/Trabalho_GA/schema_graph_7_colors.jpeg\" alt=\"Exemplo de conexões\" height=\"480\">"
      ]
    },
    {
      "cell_type": "code",
      "metadata": {
        "id": "tZQwz81QDr9w",
        "colab_type": "code",
        "colab": {}
      },
      "source": [
        "problem_length = (df.head(1)['x_country'], df.head(1)['y_country'])     # tuple with len of nodes and edges\n",
        "\n",
        "countries = {\n",
        "    0: 'BR',\n",
        "    1: 'UY',\n",
        "    2: 'PY',\n",
        "    3: 'AR',\n",
        "    4: 'BO', \n",
        "    5: 'CH', \n",
        "    6: 'PE',\n",
        "    7: 'CO', \n",
        "    8: 'EC',\n",
        "    9: 'VE'\n",
        "}\n",
        "\n",
        "connected_countries = {}\n",
        "\n",
        "for index, row in df.tail(len(df)-1).iterrows():\n",
        "    str_countries = countries.get(row['x_country']) + '-' + countries.get(row['y_country'])\n",
        "    connected_countries[str_countries] = [row['x_country'], row['y_country']]"
      ],
      "execution_count": 0,
      "outputs": []
    },
    {
      "cell_type": "markdown",
      "metadata": {
        "id": "4jm6AZWF8hYH",
        "colab_type": "text"
      },
      "source": [
        "# Algoritmo de busca para solução do problema\n",
        "\n",
        "Para o problema de coloração de grafos, foi escolhido usar o algoritmo genético pois permite uma busca mais variada, diferente do Hill Climbing que após achar o primeiro ótimo local encerra a solução do problema.\n",
        "\n",
        "Os AGs começam com um conjunto de *k* estados gerados aleatoriamente, chamado **população**. Cada estado, ou **indivíduo**, é representado como uma cadeia sobre um alfabeto finito. \n",
        "\n",
        "A produção de uma nova geração passa por algumas etapas, onde seguem uma sequência de passos:\n",
        "\n",
        "*   **Função de adaptação (fitness)**: Retorna valores mais altos para estados melhores. A probabilidade de um indivíduo ser escolhido para reprodução é diretamente proporcional à sua pontuação de adaptação.\n",
        "*   **Seleção**: Dois pares escolhidos aleatoriamente são selecionados para reprodução, de acordo com as probabilidades da função fitness.\n",
        "*   **Cruzamento (*Crossover*)**: Pares são cruzados, a escolha é realizada ao acaso em um ponto de cruzamento dentre as posições na cadeia. Os próprios descendentes são criados por cruzamento das cadeias pais no ponto de crossover.\n",
        "Ainda pode acontecer de dois estados pais serem bastante diferentes, fazendo com que a operação de cruzamento produza um estado que está longe do estado de qualquer pai.\n",
        "*   **Mutação**: Cada posição está sujeita à mutação aleatória com uma pequena probabilidade independente.\n",
        "\n",
        "---\n"
      ]
    },
    {
      "cell_type": "markdown",
      "metadata": {
        "id": "5slema1hMPeY",
        "colab_type": "text"
      },
      "source": [
        "Classe para calcular a aptidão de um indivíduo como o número de pares de territórios vizinhos que possuem cores diferentes."
      ]
    },
    {
      "cell_type": "code",
      "metadata": {
        "id": "FMmAlafI9ack",
        "colab_type": "code",
        "colab": {}
      },
      "source": [
        "class EvaluateGC:\n",
        "    \"\"\"Evaluation class.\n",
        "\n",
        "    Since that a solution needs to be evaluated with respect to the problem instance \n",
        "    in consideration, we created this class to store the problem instance and to \n",
        "    allow the evaluation to be performed without having the problem instance at hand.\n",
        "    \"\"\"\n",
        "    \n",
        "    # during initialization, store the problem instance\n",
        "    def __init__(self, problem_instance):\n",
        "        self.problem_instance = problem_instance\n",
        "    \n",
        "    # compute the value of the received solution\n",
        "    def __call__(self, solution):\n",
        "        return sum(solution[n1] != solution[n2] for (n1, n2) in self.problem_instance.values())"
      ],
      "execution_count": 0,
      "outputs": []
    },
    {
      "cell_type": "code",
      "metadata": {
        "id": "T4IGRL1xMjpd",
        "colab_type": "code",
        "colab": {}
      },
      "source": [
        "class GeneticAlgorithm:\n",
        "\n",
        "    def genetic_algorithm(self, population, fn_fitness, gene_pool, fn_thres=None, ngen=1000, pmut=0.1):\n",
        "        \"\"\" Population creation pipeline\n",
        "            \n",
        "            Keywords arguments:\n",
        "                population  -- initial population\n",
        "                fn_fitness  -- evaluation function (EvaluateGC)\n",
        "                gene_pool   -- set of possible values for each position of the solution\n",
        "                fn_thres    -- stop criterion for solution quality (default None)\n",
        "                ngem        -- maximum number of generations (default 1000)\n",
        "                pmut        -- mutation probability (default 0.1)\n",
        "        \"\"\"\n",
        "    \n",
        "\t\t# for each generation\n",
        "\t\tfor i in range(ngen):\n",
        "\n",
        "\t\t\t# create a new population\n",
        "\t\t\tnew_population = []\n",
        "\n",
        "\t\t\t# repeat to create len(population) individuals\n",
        "\t\t\tfor i in range(len(population)):\n",
        "\t\t\t\n",
        "\t\t\t\t# select the parents\n",
        "\t\t\t\tp1, p2 = self.select(2, population, fn_fitness)\n",
        "\n",
        "\t\t\t\t# recombine the parents, thus producing the child\n",
        "\t\t\t\tchild = self.recombine(p1, p2)\n",
        "\n",
        "\t\t\t\t# mutate the child\n",
        "\t\t\t\tchild = self.mutate(child, gene_pool, pmut)\n",
        "\n",
        "\t\t\t\t# add the child to the new population\n",
        "\t\t\t\tnew_population.append(child)\n",
        "\n",
        "\t\t\t# move to the new population\n",
        "\t\t\tpopulation = new_population\n",
        "\n",
        "\t\t\t# check if one of the individuals achieved a fitness of fn_thres; if so, return it\n",
        "\t\t\tfittest_individual = self.fitness_threshold(fn_fitness,fn_thres,  population)\n",
        "\t\t\tif fittest_individual:\n",
        "\t\t\t\treturn fittest_individual\n",
        "\n",
        "\t\t# return the individual with highest fitness\n",
        "\t\treturn max(population, key=fn_fitness)\n",
        "  \n",
        "\n",
        "    def fitness_threshold(fn_fitness, fn_thres, population):\n",
        "        \"\"\"Get the best individual of the received population and return it if its \n",
        "        fitness is higher than the specified threshold fn_thres\n",
        "        \"\"\"\n",
        "\n",
        "        if not fn_thres:\n",
        "            return None\n",
        "\n",
        "        fittest_individual = max(population, key=fn_fitness)\n",
        "        if fn_fitness(fittest_individual) >= fn_thres:\n",
        "            return fittest_individual\n",
        "\n",
        "        return None\n",
        "\n",
        "    \n",
        "    def select(r, population, fn_fitness):\n",
        "        \"\"\"Implements the genetic selection operator.\n",
        "        Genetic operator for selection of individuals; \n",
        "        This function implements roulette wheel selection, where individuals with \n",
        "        higher fitness are selected with higher probability.\n",
        "        \"\"\"\n",
        "\n",
        "        fitnesses = map(fn_fitness, population)\n",
        "        sampler = weighted_sampler(population, fitnesses)\n",
        "        return [sampler() for i in range(r)]\n",
        "\n",
        "    \n",
        "    def weighted_sampler(seq, weights):\n",
        "        \"\"\"Return a single sample from sequence. \n",
        "        The probability of a sample being returned is proportional to its weight\n",
        "        \"\"\"\n",
        "\n",
        "        totals = []\n",
        "        for w in weights:\n",
        "            totals.append(w + totals[-1] if totals else w)\n",
        "        return lambda: seq[bisect.bisect(totals, random.uniform(0, totals[-1]))]\n",
        "\n",
        "    \n",
        "    def recombine(x, y):\n",
        "        \"\"\"Genetic operator for recombination (crossover) of individuals.\n",
        "\n",
        "        This function implements single-point crossover, where the resulting individual\n",
        "        carries a portion [0,c] from parent x and a portion [c,n] from parent y, with \n",
        "        c selected at random.\n",
        "        \"\"\"\n",
        "\n",
        "        n = len(x)\n",
        "        c = random.randrange(0, n)\n",
        "        return x[:c] + y[c:]\n",
        "\n",
        "\n",
        "    def mutate(x, gene_pool, pmut):\n",
        "        \"\"\"Genetic operator for mutation. \n",
        "        \n",
        "        This function implements uniform mutation, where a single element of the \n",
        "        individual is selected at random and its value is changed by a randomly chosen \n",
        "        value (out of the possible values in gene_pool).\n",
        "        \"\"\"\n",
        "        \n",
        "        # if random >= pmut, then no mutation is performed\n",
        "        if random.uniform(0, 1) >= pmut:\n",
        "            return x\n",
        "\n",
        "        n = len(x)\n",
        "        g = len(gene_pool)\n",
        "        c = random.randrange(0, n) # gene to be mutated\n",
        "        r = random.randrange(0, g) # new value of the selected gene\n",
        "\n",
        "        new_gene = gene_pool[r]\n",
        "        return x[:c] + [new_gene] + x[c+1:]\n",
        "\n",
        "\n",
        "    def init_population(pop_number, gene_pool, state_length):\n",
        "        \"\"\"Generate init population. \n",
        "        \n",
        "        Will create a random population.\n",
        "\n",
        "        Keywords arguments:\n",
        "            pop_number      -- len of population\n",
        "            gene_pool       -- possible values to each element\n",
        "            state_length    -- number of genes for each individual\n",
        "        \"\"\"\n",
        "\n",
        "        g = len(gene_pool)\n",
        "        population = []\n",
        "        for i in range(pop_number):\n",
        "            # each individual is represented as an array with size state_length, \n",
        "            # where each position contains a value from gene_pool selected at random\n",
        "            new_individual = [gene_pool[random.randrange(0, g)] for j in range(state_length)]\n",
        "            population.append(new_individual)\n",
        "\n",
        "        return population"
      ],
      "execution_count": 0,
      "outputs": []
    },
    {
      "cell_type": "markdown",
      "metadata": {
        "id": "cK3HV5-bWsb1",
        "colab_type": "text"
      },
      "source": [
        "Agora que a classe do algoritmo genético está criado, podemos configurar alguns parâmetros necessários e executá-la para ver o primeiro resultado."
      ]
    },
    {
      "cell_type": "code",
      "metadata": {
        "id": "8d-I9hzZWfjN",
        "colab_type": "code",
        "colab": {}
      },
      "source": [
        "# set of possible colours (pink, orange, green, gray, purple, yellow, blue)\n",
        "possible_values = ['P', 'O', 'GN', 'GY', 'P', 'Y', 'B'] \n",
        "\n",
        "# length of an individual (one position per territory)\n",
        "individual_length = problem_length[0]\n",
        "\n",
        "# population size\n",
        "population_size = 8\n",
        "\n",
        "gen_alg = GeneticAlgorithm()\n",
        "\n",
        "# initial population\n",
        "population = gen_alg.init_population(population_size, possible_values, individual_length)\n",
        "\n",
        "# evaluation class\n",
        "fn_fitness = EvaluateGC(connected_countries)\n",
        "\n",
        "# run the algoritm\n",
        "solution = gen_alg.genetic_algorithm(population, fn_fitness, gene_pool=possible_values, fn_thres=10)\n",
        "\n",
        "# print the results\n",
        "print('Resulting solution: %s' % solution)\n",
        "print('Value of resulting solution: %d' % fn_fitness(solution))"
      ],
      "execution_count": 0,
      "outputs": []
    }
  ]
}