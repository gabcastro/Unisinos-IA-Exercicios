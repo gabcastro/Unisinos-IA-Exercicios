{
  "nbformat": 4,
  "nbformat_minor": 0,
  "metadata": {
    "colab": {
      "name": "Aula_11.ipynb",
      "provenance": [],
      "collapsed_sections": []
    },
    "kernelspec": {
      "name": "python3",
      "display_name": "Python 3"
    }
  },
  "cells": [
    {
      "cell_type": "markdown",
      "metadata": {
        "id": "KlcibMKA_a-j",
        "colab_type": "text"
      },
      "source": [
        "# Aula 11 - Redes neurais"
      ]
    },
    {
      "cell_type": "markdown",
      "metadata": {
        "id": "TqWhkCoq_jyp",
        "colab_type": "text"
      },
      "source": [
        "Neste notebook iremos utilizar a biblioteca [Keras](https://www.keras.io) para construir redes neurais.\n",
        "\n",
        "Faremos dois exemplos: XOR lógico (para classificação) e preço de casas (para regressão)."
      ]
    },
    {
      "cell_type": "markdown",
      "metadata": {
        "id": "Kc_OQIKowdob",
        "colab_type": "text"
      },
      "source": [
        "## Exemplo 1 - XOR lógico\n",
        "\n",
        "Para começar, precisamos importar algumas bibliotecas."
      ]
    },
    {
      "cell_type": "code",
      "metadata": {
        "id": "86xOUdmcI5pp",
        "colab_type": "code",
        "colab": {}
      },
      "source": [
        "import numpy as np\n",
        "import matplotlib.pyplot as plt\n",
        "from keras.models import Sequential\n",
        "from keras.layers.core import Dense, Activation\n",
        "from keras.utils import to_categorical\n",
        "from keras.utils import np_utils"
      ],
      "execution_count": 0,
      "outputs": []
    },
    {
      "cell_type": "markdown",
      "metadata": {
        "id": "V8442v5lno6D",
        "colab_type": "text"
      },
      "source": [
        "Iniciaremos com uma tarefa simples: aprender a função lógica XOR. Para isto, utilizaremos a tabela verdade desta operação como dataset para treinar a rede neural.\n",
        "\n",
        "A | B | XOR\n",
        "- | - | -\n",
        "0 | 0 | 0\n",
        "0 | 1 | 1\n",
        "1 | 0 | 1\n",
        "1 | 1 | 0\n",
        "\n",
        "Em particular, utilizaremos as colunas A e B como entradas da rede neural e a coluna XOR como saída. Especificamente, cada exemplo será composto por uma entrada X (par de dois valores representando A e B) e por uma saída y (valor individual representando XOR)."
      ]
    },
    {
      "cell_type": "code",
      "metadata": {
        "id": "CjH5gofKI7pj",
        "colab_type": "code",
        "colab": {}
      },
      "source": [
        "# entradas e saídas referentes à operação lógica XOR\n",
        "X = np.array([[0,0],[0,1],[1,0],[1,1]]).astype('float32')\n",
        "y = np.array([[0],[1],[1],[0]]).astype('float32')"
      ],
      "execution_count": 0,
      "outputs": []
    },
    {
      "cell_type": "markdown",
      "metadata": {
        "id": "PAvbA-I8pfSo",
        "colab_type": "text"
      },
      "source": [
        "Resolveremos a tarefa acima como um problema de classificação. Desta forma, é conveniente codificar a saída de forma categórica (mais detalhes sobre este tipo de procedimento [aqui](https://machinelearningmastery.com/why-one-hot-encode-data-in-machine-learning/))."
      ]
    },
    {
      "cell_type": "code",
      "metadata": {
        "id": "ZuBzEWSNI9nG",
        "colab_type": "code",
        "colab": {}
      },
      "source": [
        "# codifica as saídas de forma categórica\n",
        "y = np_utils.to_categorical(y)"
      ],
      "execution_count": 0,
      "outputs": []
    },
    {
      "cell_type": "markdown",
      "metadata": {
        "id": "DjoSjdr6p-nM",
        "colab_type": "text"
      },
      "source": [
        "Na categorização acima, os valores 0 e 1 são representados por [1, 0] e [0, 1], respectivamente. Isto fica evidente ao imprimir a variável."
      ]
    },
    {
      "cell_type": "code",
      "metadata": {
        "id": "PnzYoE-K_qfP",
        "colab_type": "code",
        "outputId": "488a560a-0f73-4171-aa9b-5c221321d1ed",
        "colab": {
          "base_uri": "https://localhost:8080/",
          "height": 84
        }
      },
      "source": [
        "print(y)"
      ],
      "execution_count": 0,
      "outputs": [
        {
          "output_type": "stream",
          "text": [
            "[[1. 0.]\n",
            " [0. 1.]\n",
            " [0. 1.]\n",
            " [1. 0.]]\n"
          ],
          "name": "stdout"
        }
      ]
    },
    {
      "cell_type": "markdown",
      "metadata": {
        "id": "P5uZ4cDmJIW5",
        "colab_type": "text"
      },
      "source": [
        "Nosso próximo passo consiste em construir a rede neural. Para isto, utilizaremos o modelo sequencial do Keras. Neste modelo, podemos empilhar as diferentes camadas da rede com bastante facilidade."
      ]
    },
    {
      "cell_type": "code",
      "metadata": {
        "id": "P0CDYpW8qc_3",
        "colab_type": "code",
        "colab": {}
      },
      "source": [
        "# cria um modelo sequencial\n",
        "model = Sequential()"
      ],
      "execution_count": 0,
      "outputs": []
    },
    {
      "cell_type": "markdown",
      "metadata": {
        "id": "WXzPkXjyqfmL",
        "colab_type": "text"
      },
      "source": [
        "Após criar o modelo sequencial, podemos empilhar as camadas utilizando a função `add`. Primeiramente, criaremos uma camada de 64 neurônios, cada qual com uma função de ativação do tipo tangente hiperbólica. O parâmetro `input_dim` é necessário para definir a dimensão das entradas."
      ]
    },
    {
      "cell_type": "code",
      "metadata": {
        "id": "fm5nAVvYIHdj",
        "colab_type": "code",
        "colab": {}
      },
      "source": [
        "# 1a camada: 64 neurônios com a mesma entrada com tamanho compatível com a entrada\n",
        "model.add(Dense(64, activation='tanh', input_dim=X.shape[1]))"
      ],
      "execution_count": 0,
      "outputs": []
    },
    {
      "cell_type": "markdown",
      "metadata": {
        "id": "U9Y6qnuhsSIk",
        "colab_type": "text"
      },
      "source": [
        "Ao final, criaremos uma camada de saída. Considerando que nossas saídas são categóricas, cada qual de dimensão 2, nossa rede também precisa ter duas saídas. Desta forma, criaremos uma camada de saída com dois neurônios, cada qual com uma função de ativação do tipo sigmóide. Note que nesta camada não foi preciso definir a dimensão de entrada; isto acontece porque o Keras define automaticamente a dimensão de entrada dos neurônios de uma camada oculta com base nas saídas da camada anterior."
      ]
    },
    {
      "cell_type": "code",
      "metadata": {
        "id": "DFfhWDT8sRpr",
        "colab_type": "code",
        "colab": {}
      },
      "source": [
        "# 2a camada (saída): 2 neurônios, totalmente conectada\n",
        "model.add(Dense(2, activation='sigmoid'))"
      ],
      "execution_count": 0,
      "outputs": []
    },
    {
      "cell_type": "markdown",
      "metadata": {
        "id": "teK8GeVEs0lh",
        "colab_type": "text"
      },
      "source": [
        "Definida a rede, agora podemos compilar a mesma para gerar o modelo final. Na compilação, devemos definir o algoritmo (`optimizer`) que será utilizado para treinar a rede bem como a função de erro (`loss`) e as métricas (`metrics`). O Keras possui diversos algoritmos de otimização ([lista](https://keras.io/api/optimizers/)), funções de erro ([lista](https://keras.io/api/losses/)) e métricas ([lista](https://keras.io/api/metrics/)). No nosso caso, estamos utilizando métricas e função de erro próprias para a tarefa de classificação. Para otimização, estamos utilizando o `adam`, que é um excelente algoritmo para redes neurais."
      ]
    },
    {
      "cell_type": "code",
      "metadata": {
        "id": "NpL404GRJNsN",
        "colab_type": "code",
        "colab": {}
      },
      "source": [
        "# compila o modelo, utilizando a entropia cruzada como função de erro, \n",
        "# com o algoritmo Adam, e avaliando o modelo através da métrica acurácia\n",
        "model.compile(loss=\"binary_crossentropy\", optimizer=\"adam\", metrics = [\"binary_crossentropy\", \"accuracy\"])"
      ],
      "execution_count": 0,
      "outputs": []
    },
    {
      "cell_type": "markdown",
      "metadata": {
        "id": "kSJ10DVvtq-Q",
        "colab_type": "text"
      },
      "source": [
        "Para ter uma visão geral do modelo resultante, podemos imprimir um resumo do mesmo. Note que o modelo criado possui 322 parâmetros. Isto significa que, durante o treinamento, o algoritmo de otimização terá que ajustar o valor de 322 variáveis de modo a reduzir o erro."
      ]
    },
    {
      "cell_type": "code",
      "metadata": {
        "id": "LG5pVD34trMg",
        "colab_type": "code",
        "outputId": "2f134914-edaf-47a0-cea1-ac336f886531",
        "colab": {
          "base_uri": "https://localhost:8080/",
          "height": 218
        }
      },
      "source": [
        "# mostra um resumo do modelo compilado\n",
        "model.summary()"
      ],
      "execution_count": 0,
      "outputs": [
        {
          "output_type": "stream",
          "text": [
            "Model: \"sequential_2\"\n",
            "_________________________________________________________________\n",
            "Layer (type)                 Output Shape              Param #   \n",
            "=================================================================\n",
            "dense_3 (Dense)              (None, 64)                192       \n",
            "_________________________________________________________________\n",
            "dense_4 (Dense)              (None, 2)                 130       \n",
            "=================================================================\n",
            "Total params: 322\n",
            "Trainable params: 322\n",
            "Non-trainable params: 0\n",
            "_________________________________________________________________\n"
          ],
          "name": "stdout"
        }
      ]
    },
    {
      "cell_type": "markdown",
      "metadata": {
        "id": "dp02cfV5JS2n",
        "colab_type": "text"
      },
      "source": [
        "Definidos os dados e a rede, agora podemos iniciar o treinamento. Para isto, devemos utilizar a função `fit`, especificando os dados de entrada e saída (no nosso caso, `X` e `y`) e o número de épocas (`epochs`)."
      ]
    },
    {
      "cell_type": "code",
      "metadata": {
        "id": "M5D7OMCuIHnJ",
        "colab_type": "code",
        "colab": {}
      },
      "source": [
        "# treina o modelo\n",
        "history = model.fit(X, y, epochs=1000, verbose=0) "
      ],
      "execution_count": 0,
      "outputs": []
    },
    {
      "cell_type": "markdown",
      "metadata": {
        "id": "w0JEjML_u1a2",
        "colab_type": "text"
      },
      "source": [
        "No código acima, armazenamos o retorno do treinamento na variável `history` para poder visualizar a evolução do processo de treinamento. Para isto, podemos plotar o erro ao longo do tempo como segue."
      ]
    },
    {
      "cell_type": "code",
      "metadata": {
        "id": "zW6VKearKMZZ",
        "colab_type": "code",
        "outputId": "2733854d-0041-4575-ca88-6d8c7c6e856b",
        "colab": {
          "base_uri": "https://localhost:8080/",
          "height": 295
        }
      },
      "source": [
        "plt.plot(history.history['loss'])\n",
        "plt.title('model loss')\n",
        "plt.ylabel('loss')\n",
        "plt.xlabel('epoch')\n",
        "plt.show()"
      ],
      "execution_count": 0,
      "outputs": [
        {
          "output_type": "display_data",
          "data": {
            "image/png": "[encoded data removed]",
            "text/plain": [
              "<Figure size 432x288 with 1 Axes>"
            ]
          },
          "metadata": {
            "tags": [],
            "needs_background": "light"
          }
        }
      ]
    },
    {
      "cell_type": "markdown",
      "metadata": {
        "id": "SjtDxiDsvL6B",
        "colab_type": "text"
      },
      "source": [
        "Conforme pode ser observado, o erro final é bastante baixo. No entanto, ele só chega a níveis adequados no final do treinamento. \n",
        "\n",
        "Da mesma forma que fizemos com o erro, podemos plotar também a acurácia do modelo."
      ]
    },
    {
      "cell_type": "code",
      "metadata": {
        "id": "YyZ8DPqzR0n8",
        "colab_type": "code",
        "outputId": "61557647-c754-4cf4-9fd0-53e4cf557398",
        "colab": {
          "base_uri": "https://localhost:8080/",
          "height": 295
        }
      },
      "source": [
        "plt.plot(history.history['accuracy'])\n",
        "plt.title('model accuracy')\n",
        "plt.ylabel('accuracy')\n",
        "plt.xlabel('epoch')\n",
        "plt.show()"
      ],
      "execution_count": 0,
      "outputs": [
        {
          "output_type": "display_data",
          "data": {
            "image/png": "[encoded data removed]",
            "text/plain": [
              "<Figure size 432x288 with 1 Axes>"
            ]
          },
          "metadata": {
            "tags": [],
            "needs_background": "light"
          }
        }
      ]
    },
    {
      "cell_type": "markdown",
      "metadata": {
        "id": "2i9J-h3YvZ5l",
        "colab_type": "text"
      },
      "source": [
        "Bem como anteriormente, note que a acurácia aumenta com o treinamento do modelo."
      ]
    },
    {
      "cell_type": "markdown",
      "metadata": {
        "id": "_WAnRBduJbyg",
        "colab_type": "text"
      },
      "source": [
        "Finalmente, agora podemos avaliar nosso modelo. Para isto, utilizaremos a função `evaluate`, que recebe como argumentos dados de entrada (`X`) e saída (`y`) e retorna as métricas anteriormente definidas."
      ]
    },
    {
      "cell_type": "code",
      "metadata": {
        "id": "9fmulfWKJb6X",
        "colab_type": "code",
        "outputId": "64b9511a-f0e3-43ba-eb78-29497e85f3f7",
        "colab": {
          "base_uri": "https://localhost:8080/",
          "height": 168
        }
      },
      "source": [
        "# avalia o modelo\n",
        "score = model.evaluate(X, y)\n",
        "print(\"\\nAcurácia: \", score[-1])\n",
        "\n",
        "# verifica as predições\n",
        "print(\"\\nPredições:\")\n",
        "pred = model.predict_proba(X)\n",
        "print(pred)"
      ],
      "execution_count": 0,
      "outputs": [
        {
          "output_type": "stream",
          "text": [
            "\r4/4 [==============================] - 0s 357us/step\n",
            "\n",
            "Acurácia:  1.0\n",
            "\n",
            "Predições:\n",
            "[[0.9956118  0.00387996]\n",
            " [0.00456738 0.99577177]\n",
            " [0.00527772 0.9953675 ]\n",
            " [0.9951901  0.00414902]]\n"
          ],
          "name": "stdout"
        }
      ]
    },
    {
      "cell_type": "markdown",
      "metadata": {
        "id": "4A7wyHTVv3fX",
        "colab_type": "text"
      },
      "source": [
        "Note que nosso modelo obteve uma acurácia de 100%. Nenhuma surpresa, dado que o problema XOR é bastante simples.\n",
        "\n",
        "Para melhorar o entendimento, abaixo podemos comparar as saídas da rede com as saídas esperadas."
      ]
    },
    {
      "cell_type": "code",
      "metadata": {
        "id": "8dxblcXoIHrQ",
        "colab_type": "code",
        "outputId": "8702c09e-a44d-4fe5-ebc4-cf57e889789a",
        "colab": {
          "base_uri": "https://localhost:8080/",
          "height": 101
        }
      },
      "source": [
        "# imprime as predições de forma mais clara\n",
        "print(\"Entrada\\t\\tSaída esperada\\t\\tSaída prevista\")\n",
        "for i in range(len(X)):\n",
        "    print(f\"{X[i]}\\t\\t{y[i]}\\t\\t\\t{[round(v) for v in pred[i]]}\")"
      ],
      "execution_count": 0,
      "outputs": [
        {
          "output_type": "stream",
          "text": [
            "Entrada\t\tSaída esperada\t\tSaída prevista\n",
            "[0. 0.]\t\t[1. 0.]\t\t\t[1.0, 0.0]\n",
            "[0. 1.]\t\t[0. 1.]\t\t\t[0.0, 1.0]\n",
            "[1. 0.]\t\t[0. 1.]\t\t\t[0.0, 1.0]\n",
            "[1. 1.]\t\t[1. 0.]\t\t\t[1.0, 0.0]\n"
          ],
          "name": "stdout"
        }
      ]
    },
    {
      "cell_type": "markdown",
      "metadata": {
        "id": "jWvKJovtMkPe",
        "colab_type": "text"
      },
      "source": [
        "## Exemplo 2 - Boston Housing\n",
        "\n",
        "Para começar, precisamos importar algumas bibliotecas."
      ]
    },
    {
      "cell_type": "code",
      "metadata": {
        "id": "gKXTL5LoxBvM",
        "colab_type": "code",
        "colab": {}
      },
      "source": [
        "import numpy as np\n",
        "import matplotlib.pyplot as plt\n",
        "from keras.models import Sequential\n",
        "from keras.layers.core import Dense, Activation\n",
        "from keras.utils import to_categorical\n",
        "from keras.utils import np_utils\n",
        "from keras.datasets import boston_housing"
      ],
      "execution_count": 0,
      "outputs": []
    },
    {
      "cell_type": "markdown",
      "metadata": {
        "id": "MDXImo-qxB95",
        "colab_type": "text"
      },
      "source": [
        "Neste exemplo, resolveremos a tarefa de regressão. Para isto, utilizaremos o dataset Boston Housing, que contém informações sobre imóveis e seus preços na cidade de Boston (EUA). Este dataset pode ser facilmente importado através da função `boston_housing.load_data`. Esta função retorna duas tuplas, as quais representam os dados de treino (entrada e saída) e de teste (entrada e saída)."
      ]
    },
    {
      "cell_type": "code",
      "metadata": {
        "id": "iPvnZUj7xVot",
        "colab_type": "code",
        "colab": {}
      },
      "source": [
        "(train_data, train_targets), (test_data, test_targets) = boston_housing.load_data()"
      ],
      "execution_count": 0,
      "outputs": []
    },
    {
      "cell_type": "markdown",
      "metadata": {
        "id": "VuKLnG7TxVLR",
        "colab_type": "text"
      },
      "source": [
        "Para entender melhor estes dados, podemos imprimir uma pequena amostra como segue."
      ]
    },
    {
      "cell_type": "code",
      "metadata": {
        "id": "pdJIGNLHxs15",
        "colab_type": "code",
        "outputId": "b5223a23-1b79-4772-b835-53b51dc6adee",
        "colab": {
          "base_uri": "https://localhost:8080/",
          "height": 121
        }
      },
      "source": [
        "print('Shape dados de treino:   %s'% (train_data.shape,))\n",
        "print('Shape dados de teste:    %s'% (test_data.shape,))\n",
        "print('Exemplo de entrada:      %s'% (train_data[0]))\n",
        "print('Exemplo de saída:        %f'% (train_targets[0]))"
      ],
      "execution_count": 0,
      "outputs": [
        {
          "output_type": "stream",
          "text": [
            "Shape dados de treino:   (404, 13)\n",
            "Shape dados de teste:    (102, 13)\n",
            "Exemplo de entrada:      [  1.23247   0.        8.14      0.        0.538     6.142    91.7\n",
            "   3.9769    4.      307.       21.      396.9      18.72   ]\n",
            "Exemplo de saída:        15.200000\n"
          ],
          "name": "stdout"
        }
      ]
    },
    {
      "cell_type": "markdown",
      "metadata": {
        "id": "vE5s5BXsxCT7",
        "colab_type": "text"
      },
      "source": [
        "Para que o modelo aprenda melhor, precisamos realizar um pré-processamento dos dados."
      ]
    },
    {
      "cell_type": "code",
      "metadata": {
        "id": "zymgM_5Ayt6t",
        "colab_type": "code",
        "colab": {}
      },
      "source": [
        "mean = train_data.mean(axis=0)\n",
        "train_data -= mean\n",
        "std = train_data.std(axis=0)\n",
        "train_data /= std\n",
        "\n",
        "test_data -= mean\n",
        "test_data /= std"
      ],
      "execution_count": 0,
      "outputs": []
    },
    {
      "cell_type": "markdown",
      "metadata": {
        "id": "VhTkWCJSxCd6",
        "colab_type": "text"
      },
      "source": [
        "Definido o dataset, agora podemos criar a rede neural.\n",
        "\n",
        "Neste exemplo, estamos empilhando três camadas, sendo duas com 64 neurônios cada e uma (de saída) com apenas um neurônio. Note que a camada de saída possui apenas um neurônio porque estamos lidando com a tarefa de regressão."
      ]
    },
    {
      "cell_type": "code",
      "metadata": {
        "id": "-8sy3zPyy45B",
        "colab_type": "code",
        "outputId": "2260c38d-ba5e-4b2e-ca1b-deacb7e903d1",
        "colab": {
          "base_uri": "https://localhost:8080/",
          "height": 252
        }
      },
      "source": [
        "model = Sequential()\n",
        "model.add(Dense(128, activation='relu', input_shape=(train_data.shape[1],)))\n",
        "model.add(Dense(128, activation='relu'))\n",
        "model.add(Dense(1))\n",
        "\n",
        "model.compile(optimizer='rmsprop', loss='mse', metrics=['mse'])\n",
        "model.summary()"
      ],
      "execution_count": 0,
      "outputs": [
        {
          "output_type": "stream",
          "text": [
            "Model: \"sequential_3\"\n",
            "_________________________________________________________________\n",
            "Layer (type)                 Output Shape              Param #   \n",
            "=================================================================\n",
            "dense_7 (Dense)              (None, 128)               1792      \n",
            "_________________________________________________________________\n",
            "dense_8 (Dense)              (None, 128)               16512     \n",
            "_________________________________________________________________\n",
            "dense_9 (Dense)              (None, 1)                 129       \n",
            "=================================================================\n",
            "Total params: 18,433\n",
            "Trainable params: 18,433\n",
            "Non-trainable params: 0\n",
            "_________________________________________________________________\n"
          ],
          "name": "stdout"
        }
      ]
    },
    {
      "cell_type": "markdown",
      "metadata": {
        "id": "sOkCIztKxCNO",
        "colab_type": "text"
      },
      "source": [
        "Agora podemos treinar o modelo utilizando nosso dataset."
      ]
    },
    {
      "cell_type": "code",
      "metadata": {
        "id": "74fYM4vIM6Si",
        "colab_type": "code",
        "colab": {}
      },
      "source": [
        "history = model.fit(train_data, train_targets, epochs=2000, verbose=0)"
      ],
      "execution_count": 0,
      "outputs": []
    },
    {
      "cell_type": "markdown",
      "metadata": {
        "id": "waxQtW0C34iZ",
        "colab_type": "text"
      },
      "source": [
        "Treinado o modelo, podemos analisar seu desempenho através do gráfico abaixo."
      ]
    },
    {
      "cell_type": "code",
      "metadata": {
        "id": "Ok3_ho_4M6Yt",
        "colab_type": "code",
        "outputId": "9adc6147-e231-4cac-9b6a-7ed1ce40f528",
        "colab": {
          "base_uri": "https://localhost:8080/",
          "height": 295
        }
      },
      "source": [
        "import matplotlib.pyplot as plt\n",
        "plt.plot(history.history['loss'])\n",
        "plt.title('model loss')\n",
        "plt.ylabel('loss')\n",
        "plt.xlabel('epoch')\n",
        "plt.legend(['train', 'test'], loc='upper left')\n",
        "plt.show()"
      ],
      "execution_count": 0,
      "outputs": [
        {
          "output_type": "display_data",
          "data": {
            "image/png": "[encoded data removed]",
            "text/plain": [
              "<Figure size 432x288 with 1 Axes>"
            ]
          },
          "metadata": {
            "tags": [],
            "needs_background": "light"
          }
        }
      ]
    },
    {
      "cell_type": "markdown",
      "metadata": {
        "id": "Y-Jvd0DT311e",
        "colab_type": "text"
      },
      "source": [
        "Para avaliar o modelo, podemos obter o valor do erro como segue."
      ]
    },
    {
      "cell_type": "code",
      "metadata": {
        "id": "fWBMgM5Q32FT",
        "colab_type": "code",
        "outputId": "47f5aa15-9849-421c-e214-7228c37ca3b9",
        "colab": {
          "base_uri": "https://localhost:8080/",
          "height": 50
        }
      },
      "source": [
        "test_mse_score = model.evaluate(test_data, test_targets)\n",
        "test_mse_score"
      ],
      "execution_count": 0,
      "outputs": [
        {
          "output_type": "stream",
          "text": [
            "102/102 [==============================] - 0s 182us/step\n"
          ],
          "name": "stdout"
        },
        {
          "output_type": "execute_result",
          "data": {
            "text/plain": [
              "[15.152721554625268, 15.152722358703613]"
            ]
          },
          "metadata": {
            "tags": []
          },
          "execution_count": 18
        }
      ]
    },
    {
      "cell_type": "markdown",
      "metadata": {
        "id": "kjL97zHB4J35",
        "colab_type": "text"
      },
      "source": [
        "Note que o erro acima está alto. Mas ainda assim, é uma aproximação razoável.\n",
        "\n",
        "Podemos ter uma ideia melhor deste erro através do gráfico abaixo. Quanto mais distante da linha, maior o erro."
      ]
    },
    {
      "cell_type": "code",
      "metadata": {
        "id": "G1D-t_DS2AHL",
        "colab_type": "code",
        "outputId": "69c78616-6c41-47e2-f46b-b86a4d645831",
        "colab": {
          "base_uri": "https://localhost:8080/",
          "height": 279
        }
      },
      "source": [
        "test_predictions = model.predict(test_data).flatten()\n",
        "plt.scatter(test_targets, test_predictions)\n",
        "plt.xlabel('True Values [1000$]')\n",
        "plt.ylabel('Predictions [1000$]')\n",
        "plt.axis('equal')\n",
        "plt.xlim(plt.xlim())\n",
        "plt.ylim(plt.ylim())\n",
        "_ = plt.plot([-100, 100],[-100,100])"
      ],
      "execution_count": 0,
      "outputs": [
        {
          "output_type": "display_data",
          "data": {
            "image/png": "[encoded data removed]",
            "text/plain": [
              "<Figure size 432x288 with 1 Axes>"
            ]
          },
          "metadata": {
            "tags": [],
            "needs_background": "light"
          }
        }
      ]
    },
    {
      "cell_type": "markdown",
      "metadata": {
        "id": "a8wK-o4gMBUs",
        "colab_type": "text"
      },
      "source": [
        "## Exercícios"
      ]
    },
    {
      "cell_type": "markdown",
      "metadata": {
        "id": "GARK4PZu_tve",
        "colab_type": "text"
      },
      "source": [
        "### Exercício 1\n",
        "\n",
        "Repita o exemplo 1 para a expressão lógica abaixo.\n",
        "\n",
        "![alt text](https://www.electronics-tutorials.ws/wp-content/uploads/2018/05/combination-comb25.gif)"
      ]
    },
    {
      "cell_type": "markdown",
      "metadata": {
        "id": "ay8JlpvaX3va",
        "colab_type": "text"
      },
      "source": [
        "#### Modelagem usando os mesmos parâmetros usados no exemplo 1"
      ]
    },
    {
      "cell_type": "code",
      "metadata": {
        "id": "vCvkVPfHAGks",
        "colab_type": "code",
        "colab": {}
      },
      "source": [
        "X = np.array([\n",
        "              [0, 0, 0],\n",
        "              [0, 0, 1],\n",
        "              [0, 1, 0],\n",
        "              [0, 1, 1],\n",
        "              [1, 0, 0],\n",
        "              [1, 0, 1],\n",
        "              [1, 1, 0],\n",
        "              [1, 1, 1]\n",
        "]).astype('float32')\n",
        "\n",
        "y = np.array([[0], [0], [0], [0], [1], [0], [0], [0]]).astype('float32')\n",
        "\n",
        "y = np_utils.to_categorical(y)"
      ],
      "execution_count": 0,
      "outputs": []
    },
    {
      "cell_type": "code",
      "metadata": {
        "id": "YMhmvHXISUch",
        "colab_type": "code",
        "outputId": "66e65af4-138b-4041-e3a1-a5a6a00d67d8",
        "colab": {
          "base_uri": "https://localhost:8080/",
          "height": 151
        }
      },
      "source": [
        "print(y)"
      ],
      "execution_count": 0,
      "outputs": [
        {
          "output_type": "stream",
          "text": [
            "[[1. 0.]\n",
            " [1. 0.]\n",
            " [1. 0.]\n",
            " [1. 0.]\n",
            " [0. 1.]\n",
            " [1. 0.]\n",
            " [1. 0.]\n",
            " [1. 0.]]\n"
          ],
          "name": "stdout"
        }
      ]
    },
    {
      "cell_type": "code",
      "metadata": {
        "id": "Bl4l3muhSoni",
        "colab_type": "code",
        "outputId": "f95fec81-69b5-492f-acf2-1513da51c008",
        "colab": {
          "base_uri": "https://localhost:8080/",
          "height": 218
        }
      },
      "source": [
        "model = Sequential()\n",
        "\n",
        "model.add(Dense(64, activation='tanh', input_dim=X.shape[1]))\n",
        "model.add(Dense(2, activation='sigmoid'))\n",
        "model.compile(loss=\"binary_crossentropy\", optimizer=\"adam\", metrics = [\"binary_crossentropy\", \"accuracy\"])\n",
        "model.summary()"
      ],
      "execution_count": 0,
      "outputs": [
        {
          "output_type": "stream",
          "text": [
            "Model: \"sequential_18\"\n",
            "_________________________________________________________________\n",
            "Layer (type)                 Output Shape              Param #   \n",
            "=================================================================\n",
            "dense_38 (Dense)             (None, 64)                256       \n",
            "_________________________________________________________________\n",
            "dense_39 (Dense)             (None, 2)                 130       \n",
            "=================================================================\n",
            "Total params: 386\n",
            "Trainable params: 386\n",
            "Non-trainable params: 0\n",
            "_________________________________________________________________\n"
          ],
          "name": "stdout"
        }
      ]
    },
    {
      "cell_type": "code",
      "metadata": {
        "id": "20jVfxQcTMw1",
        "colab_type": "code",
        "colab": {}
      },
      "source": [
        "history = model.fit(X, y, epochs=1000, verbose=0) "
      ],
      "execution_count": 0,
      "outputs": []
    },
    {
      "cell_type": "code",
      "metadata": {
        "id": "uvENDr9jTRn-",
        "colab_type": "code",
        "outputId": "cf753671-63bf-43c7-8f8d-537a66d6264f",
        "colab": {
          "base_uri": "https://localhost:8080/",
          "height": 295
        }
      },
      "source": [
        "plt.plot(history.history['loss'])\n",
        "plt.title('model loss')\n",
        "plt.ylabel('loss')\n",
        "plt.xlabel('epoch')\n",
        "plt.show()"
      ],
      "execution_count": 0,
      "outputs": [
        {
          "output_type": "display_data",
          "data": {
            "image/png": "[encoded data removed]",
            "text/plain": [
              "<Figure size 432x288 with 1 Axes>"
            ]
          },
          "metadata": {
            "tags": [],
            "needs_background": "light"
          }
        }
      ]
    },
    {
      "cell_type": "code",
      "metadata": {
        "id": "XK7cyR-2TWUh",
        "colab_type": "code",
        "outputId": "56791ee0-ad70-4f62-d29b-ad74d111c88c",
        "colab": {
          "base_uri": "https://localhost:8080/",
          "height": 295
        }
      },
      "source": [
        "plt.plot(history.history['accuracy'])\n",
        "plt.title('model accuracy')\n",
        "plt.ylabel('accuracy')\n",
        "plt.xlabel('epoch')\n",
        "plt.show()"
      ],
      "execution_count": 0,
      "outputs": [
        {
          "output_type": "display_data",
          "data": {
            "image/png": "[encoded data removed]",
            "text/plain": [
              "<Figure size 432x288 with 1 Axes>"
            ]
          },
          "metadata": {
            "tags": [],
            "needs_background": "light"
          }
        }
      ]
    },
    {
      "cell_type": "code",
      "metadata": {
        "id": "200Pc6QjTb9c",
        "colab_type": "code",
        "outputId": "650c97ed-0323-49fc-ef47-d238a8bb8e1e",
        "colab": {
          "base_uri": "https://localhost:8080/",
          "height": 235
        }
      },
      "source": [
        "# avalia o modelo\n",
        "score = model.evaluate(X, y)\n",
        "print(\"\\nAcurácia: \", score[-1])\n",
        "\n",
        "# verifica as predições\n",
        "print(\"\\nPredições:\")\n",
        "pred = model.predict_proba(X)\n",
        "print(pred)"
      ],
      "execution_count": 0,
      "outputs": [
        {
          "output_type": "stream",
          "text": [
            "\r8/8 [==============================] - 0s 2ms/step\n",
            "\n",
            "Acurácia:  1.0\n",
            "\n",
            "Predições:\n",
            "[[9.9447173e-01 5.8782995e-03]\n",
            " [9.9999797e-01 2.4255924e-06]\n",
            " [9.9999803e-01 2.2446695e-06]\n",
            " [1.0000000e+00 1.2198366e-08]\n",
            " [1.2593597e-02 9.8602122e-01]\n",
            " [9.9500823e-01 5.7833791e-03]\n",
            " [9.9456584e-01 5.1988363e-03]\n",
            " [9.9999809e-01 2.2693991e-06]]\n"
          ],
          "name": "stdout"
        }
      ]
    },
    {
      "cell_type": "code",
      "metadata": {
        "id": "zRcvTq-hTckT",
        "colab_type": "code",
        "outputId": "ce21ce4c-ab9a-4567-db5a-d79e14dd9a9c",
        "colab": {
          "base_uri": "https://localhost:8080/",
          "height": 168
        }
      },
      "source": [
        "# imprime as predições de forma mais clara\n",
        "print(\"Entrada\\t\\tSaída esperada\\t\\tSaída prevista\")\n",
        "for i in range(len(X)):\n",
        "    print(f\"{X[i]}\\t\\t{y[i]}\\t\\t\\t{[round(v) for v in pred[i]]}\")"
      ],
      "execution_count": 0,
      "outputs": [
        {
          "output_type": "stream",
          "text": [
            "Entrada\t\tSaída esperada\t\tSaída prevista\n",
            "[0. 0. 0.]\t\t[1. 0.]\t\t\t[1.0, 0.0]\n",
            "[0. 0. 1.]\t\t[1. 0.]\t\t\t[1.0, 0.0]\n",
            "[0. 1. 0.]\t\t[1. 0.]\t\t\t[1.0, 0.0]\n",
            "[0. 1. 1.]\t\t[1. 0.]\t\t\t[1.0, 0.0]\n",
            "[1. 0. 0.]\t\t[0. 1.]\t\t\t[0.0, 1.0]\n",
            "[1. 0. 1.]\t\t[1. 0.]\t\t\t[1.0, 0.0]\n",
            "[1. 1. 0.]\t\t[1. 0.]\t\t\t[1.0, 0.0]\n",
            "[1. 1. 1.]\t\t[1. 0.]\t\t\t[1.0, 0.0]\n"
          ],
          "name": "stdout"
        }
      ]
    },
    {
      "cell_type": "markdown",
      "metadata": {
        "id": "yrdYXd_qX_vR",
        "colab_type": "text"
      },
      "source": [
        "#### Modelagem usando parâmetros diferentes\n",
        "\n",
        "Mudei para conter mais uma camada, e as duas ainda possuirem 200 neurônios cada. \n",
        "\n",
        "Para a modelagem foi usadado a função de perda `poisson` e para otimização a `adamax`, que se encaixaram melhor que as primeiras usadas.\n",
        "\n",
        "Por último, foi alterado a quantidade de rodadas para garantir a acurácia em 1 logo início das iterações."
      ]
    },
    {
      "cell_type": "code",
      "metadata": {
        "id": "42sfibUPXNuS",
        "colab_type": "code",
        "outputId": "92ca74d6-e6da-44cd-fd54-6dfa9069900d",
        "colab": {
          "base_uri": "https://localhost:8080/",
          "height": 252
        }
      },
      "source": [
        "model = Sequential()\n",
        "\n",
        "model.add(Dense(200, activation='tanh', input_dim=X.shape[1]))\n",
        "model.add(Dense(200, activation='tanh'))\n",
        "model.add(Dense(2, activation='sigmoid'))\n",
        "model.compile(loss=\"poisson\", optimizer=\"adamax\", metrics = [\"binary_crossentropy\", \"accuracy\"])\n",
        "history = model.fit(X, y, epochs=2000, verbose=0) \n",
        "model.summary()"
      ],
      "execution_count": 0,
      "outputs": [
        {
          "output_type": "stream",
          "text": [
            "Model: \"sequential_25\"\n",
            "_________________________________________________________________\n",
            "Layer (type)                 Output Shape              Param #   \n",
            "=================================================================\n",
            "dense_57 (Dense)             (None, 200)               800       \n",
            "_________________________________________________________________\n",
            "dense_58 (Dense)             (None, 200)               40200     \n",
            "_________________________________________________________________\n",
            "dense_59 (Dense)             (None, 2)                 402       \n",
            "=================================================================\n",
            "Total params: 41,402\n",
            "Trainable params: 41,402\n",
            "Non-trainable params: 0\n",
            "_________________________________________________________________\n"
          ],
          "name": "stdout"
        }
      ]
    },
    {
      "cell_type": "code",
      "metadata": {
        "id": "7NPoDRglXQnS",
        "colab_type": "code",
        "outputId": "db713a98-60f7-4e50-81eb-52adffe9780a",
        "colab": {
          "base_uri": "https://localhost:8080/",
          "height": 295
        }
      },
      "source": [
        "plt.plot(history.history['loss'])\n",
        "plt.title('model loss')\n",
        "plt.ylabel('loss')\n",
        "plt.xlabel('epoch')\n",
        "plt.show()"
      ],
      "execution_count": 0,
      "outputs": [
        {
          "output_type": "display_data",
          "data": {
            "image/png": "[encoded data removed]",
            "text/plain": [
              "<Figure size 432x288 with 1 Axes>"
            ]
          },
          "metadata": {
            "tags": [],
            "needs_background": "light"
          }
        }
      ]
    },
    {
      "cell_type": "code",
      "metadata": {
        "id": "LVwFpHT_XYeQ",
        "colab_type": "code",
        "outputId": "23f3c95b-f45e-4a01-e8c0-2aeaa1f76b96",
        "colab": {
          "base_uri": "https://localhost:8080/",
          "height": 295
        }
      },
      "source": [
        "plt.plot(history.history['accuracy'])\n",
        "plt.title('model accuracy')\n",
        "plt.ylabel('accuracy')\n",
        "plt.xlabel('epoch')\n",
        "plt.show()"
      ],
      "execution_count": 0,
      "outputs": [
        {
          "output_type": "display_data",
          "data": {
            "image/png": "[encoded data removed]",
            "text/plain": [
              "<Figure size 432x288 with 1 Axes>"
            ]
          },
          "metadata": {
            "tags": [],
            "needs_background": "light"
          }
        }
      ]
    },
    {
      "cell_type": "code",
      "metadata": {
        "id": "4IUfzip1Xa1X",
        "colab_type": "code",
        "outputId": "f93a0b06-ef00-45a1-b4f4-07159095200a",
        "colab": {
          "base_uri": "https://localhost:8080/",
          "height": 235
        }
      },
      "source": [
        "# avalia o modelo\n",
        "score = model.evaluate(X, y)\n",
        "print(\"\\nAcurácia: \", score[-1])\n",
        "\n",
        "# verifica as predições\n",
        "print(\"\\nPredições:\")\n",
        "pred = model.predict_proba(X)\n",
        "print(pred)"
      ],
      "execution_count": 0,
      "outputs": [
        {
          "output_type": "stream",
          "text": [
            "\r8/8 [==============================] - 0s 3ms/step\n",
            "\n",
            "Acurácia:  1.0\n",
            "\n",
            "Predições:\n",
            "[[9.9971521e-01 5.5489309e-05]\n",
            " [1.0000000e+00 3.5565890e-09]\n",
            " [1.0000000e+00 3.3997463e-09]\n",
            " [1.0000000e+00 1.4996764e-10]\n",
            " [5.6229670e-05 9.9568844e-01]\n",
            " [9.9671674e-01 1.4502803e-05]\n",
            " [9.9684745e-01 1.4425763e-05]\n",
            " [1.0000000e+00 1.7092356e-09]]\n"
          ],
          "name": "stdout"
        }
      ]
    },
    {
      "cell_type": "code",
      "metadata": {
        "id": "M7U3LDlxXdCq",
        "colab_type": "code",
        "outputId": "c7220055-1372-4618-cfcd-a5b7ba277cb4",
        "colab": {
          "base_uri": "https://localhost:8080/",
          "height": 168
        }
      },
      "source": [
        "# imprime as predições de forma mais clara\n",
        "print(\"Entrada\\t\\tSaída esperada\\t\\tSaída prevista\")\n",
        "for i in range(len(X)):\n",
        "    print(f\"{X[i]}\\t\\t{y[i]}\\t\\t\\t{[round(v) for v in pred[i]]}\")"
      ],
      "execution_count": 0,
      "outputs": [
        {
          "output_type": "stream",
          "text": [
            "Entrada\t\tSaída esperada\t\tSaída prevista\n",
            "[0. 0. 0.]\t\t[1. 0.]\t\t\t[1.0, 0.0]\n",
            "[0. 0. 1.]\t\t[1. 0.]\t\t\t[1.0, 0.0]\n",
            "[0. 1. 0.]\t\t[1. 0.]\t\t\t[1.0, 0.0]\n",
            "[0. 1. 1.]\t\t[1. 0.]\t\t\t[1.0, 0.0]\n",
            "[1. 0. 0.]\t\t[0. 1.]\t\t\t[0.0, 1.0]\n",
            "[1. 0. 1.]\t\t[1. 0.]\t\t\t[1.0, 0.0]\n",
            "[1. 1. 0.]\t\t[1. 0.]\t\t\t[1.0, 0.0]\n",
            "[1. 1. 1.]\t\t[1. 0.]\t\t\t[1.0, 0.0]\n"
          ],
          "name": "stdout"
        }
      ]
    },
    {
      "cell_type": "markdown",
      "metadata": {
        "id": "lXPiNQjg_ty1",
        "colab_type": "text"
      },
      "source": [
        "### Exercício 2\n",
        "\n",
        "Construa um modelo capaz de fazer o reconhecimento de dígitos do dataset MNIST ([link](https://keras.io/api/datasets/mnist/))."
      ]
    },
    {
      "cell_type": "code",
      "metadata": {
        "id": "xs07YUPiAJKp",
        "colab_type": "code",
        "colab": {}
      },
      "source": [
        "import numpy as np\n",
        "import matplotlib.pyplot as plt\n",
        "from numpy import mean\n",
        "from numpy import std\n",
        "from keras.models import Sequential\n",
        "from keras.layers.core import Dense, Activation\n",
        "from keras.utils import to_categorical\n",
        "from keras.utils import np_utils\n",
        "from keras.datasets import mnist\n",
        "from sklearn.model_selection import KFold\n",
        "from keras.layers import Conv2D\n",
        "from keras.layers import MaxPooling2D\n",
        "from keras.layers import Dense\n",
        "from keras.layers import Flatten\n",
        "from keras.optimizers import SGD"
      ],
      "execution_count": 0,
      "outputs": []
    },
    {
      "cell_type": "code",
      "metadata": {
        "id": "npgTj9pv44Wt",
        "colab_type": "code",
        "outputId": "4eed01d7-616c-40e4-c7df-177b85b19d46",
        "colab": {
          "base_uri": "https://localhost:8080/",
          "height": 50
        }
      },
      "source": [
        "(train_data, train_targets), (test_data, test_targets) = mnist.load_data()"
      ],
      "execution_count": 2,
      "outputs": [
        {
          "output_type": "stream",
          "text": [
            "Downloading data from https://s3.amazonaws.com/img-datasets/mnist.npz\n",
            "11493376/11490434 [==============================] - 1s 0us/step\n"
          ],
          "name": "stdout"
        }
      ]
    },
    {
      "cell_type": "code",
      "metadata": {
        "id": "k7xb3B8X6ak5",
        "colab_type": "code",
        "outputId": "098ec10a-dd53-47df-9d8e-84650a75b592",
        "colab": {
          "base_uri": "https://localhost:8080/",
          "height": 1000
        }
      },
      "source": [
        "print('Shape dados de treino:   in: %s, out: %s'% (train_data.shape, train_targets.shape))\n",
        "print('Shape dados de teste:    in: %s, out: %s'% (test_data.shape, test_targets.shape))\n",
        "print('Exemplo de entrada:      %s'% (train_data[0]))\n",
        "print('Exemplo de saída:        %f'% (train_targets[0]))"
      ],
      "execution_count": 3,
      "outputs": [
        {
          "output_type": "stream",
          "text": [
            "Shape dados de treino:   in: (60000, 28, 28), out: (60000,)\n",
            "Shape dados de teste:    in: (10000, 28, 28), out: (10000,)\n",
            "Exemplo de entrada:      [[  0   0   0   0   0   0   0   0   0   0   0   0   0   0   0   0   0   0\n",
            "    0   0   0   0   0   0   0   0   0   0]\n",
            " [  0   0   0   0   0   0   0   0   0   0   0   0   0   0   0   0   0   0\n",
            "    0   0   0   0   0   0   0   0   0   0]\n",
            " [  0   0   0   0   0   0   0   0   0   0   0   0   0   0   0   0   0   0\n",
            "    0   0   0   0   0   0   0   0   0   0]\n",
            " [  0   0   0   0   0   0   0   0   0   0   0   0   0   0   0   0   0   0\n",
            "    0   0   0   0   0   0   0   0   0   0]\n",
            " [  0   0   0   0   0   0   0   0   0   0   0   0   0   0   0   0   0   0\n",
            "    0   0   0   0   0   0   0   0   0   0]\n",
            " [  0   0   0   0   0   0   0   0   0   0   0   0   3  18  18  18 126 136\n",
            "  175  26 166 255 247 127   0   0   0   0]\n",
            " [  0   0   0   0   0   0   0   0  30  36  94 154 170 253 253 253 253 253\n",
            "  225 172 253 242 195  64   0   0   0   0]\n",
            " [  0   0   0   0   0   0   0  49 238 253 253 253 253 253 253 253 253 251\n",
            "   93  82  82  56  39   0   0   0   0   0]\n",
            " [  0   0   0   0   0   0   0  18 219 253 253 253 253 253 198 182 247 241\n",
            "    0   0   0   0   0   0   0   0   0   0]\n",
            " [  0   0   0   0   0   0   0   0  80 156 107 253 253 205  11   0  43 154\n",
            "    0   0   0   0   0   0   0   0   0   0]\n",
            " [  0   0   0   0   0   0   0   0   0  14   1 154 253  90   0   0   0   0\n",
            "    0   0   0   0   0   0   0   0   0   0]\n",
            " [  0   0   0   0   0   0   0   0   0   0   0 139 253 190   2   0   0   0\n",
            "    0   0   0   0   0   0   0   0   0   0]\n",
            " [  0   0   0   0   0   0   0   0   0   0   0  11 190 253  70   0   0   0\n",
            "    0   0   0   0   0   0   0   0   0   0]\n",
            " [  0   0   0   0   0   0   0   0   0   0   0   0  35 241 225 160 108   1\n",
            "    0   0   0   0   0   0   0   0   0   0]\n",
            " [  0   0   0   0   0   0   0   0   0   0   0   0   0  81 240 253 253 119\n",
            "   25   0   0   0   0   0   0   0   0   0]\n",
            " [  0   0   0   0   0   0   0   0   0   0   0   0   0   0  45 186 253 253\n",
            "  150  27   0   0   0   0   0   0   0   0]\n",
            " [  0   0   0   0   0   0   0   0   0   0   0   0   0   0   0  16  93 252\n",
            "  253 187   0   0   0   0   0   0   0   0]\n",
            " [  0   0   0   0   0   0   0   0   0   0   0   0   0   0   0   0   0 249\n",
            "  253 249  64   0   0   0   0   0   0   0]\n",
            " [  0   0   0   0   0   0   0   0   0   0   0   0   0   0  46 130 183 253\n",
            "  253 207   2   0   0   0   0   0   0   0]\n",
            " [  0   0   0   0   0   0   0   0   0   0   0   0  39 148 229 253 253 253\n",
            "  250 182   0   0   0   0   0   0   0   0]\n",
            " [  0   0   0   0   0   0   0   0   0   0  24 114 221 253 253 253 253 201\n",
            "   78   0   0   0   0   0   0   0   0   0]\n",
            " [  0   0   0   0   0   0   0   0  23  66 213 253 253 253 253 198  81   2\n",
            "    0   0   0   0   0   0   0   0   0   0]\n",
            " [  0   0   0   0   0   0  18 171 219 253 253 253 253 195  80   9   0   0\n",
            "    0   0   0   0   0   0   0   0   0   0]\n",
            " [  0   0   0   0  55 172 226 253 253 253 253 244 133  11   0   0   0   0\n",
            "    0   0   0   0   0   0   0   0   0   0]\n",
            " [  0   0   0   0 136 253 253 253 212 135 132  16   0   0   0   0   0   0\n",
            "    0   0   0   0   0   0   0   0   0   0]\n",
            " [  0   0   0   0   0   0   0   0   0   0   0   0   0   0   0   0   0   0\n",
            "    0   0   0   0   0   0   0   0   0   0]\n",
            " [  0   0   0   0   0   0   0   0   0   0   0   0   0   0   0   0   0   0\n",
            "    0   0   0   0   0   0   0   0   0   0]\n",
            " [  0   0   0   0   0   0   0   0   0   0   0   0   0   0   0   0   0   0\n",
            "    0   0   0   0   0   0   0   0   0   0]]\n",
            "Exemplo de saída:        5.000000\n"
          ],
          "name": "stdout"
        }
      ]
    },
    {
      "cell_type": "code",
      "metadata": {
        "id": "BthQYLq3E3j_",
        "colab_type": "code",
        "outputId": "ffa67a5f-249b-4f80-97b1-24970f694245",
        "colab": {
          "base_uri": "https://localhost:8080/",
          "height": 268
        }
      },
      "source": [
        "for i in range(9):\n",
        "\t# define subplot\n",
        "\tplt.subplot(330 + 1 + i)\n",
        "\t# plot raw pixel data\n",
        "\tplt.imshow(train_data[i], cmap=plt.get_cmap('gray'))\n",
        "# show the figure\n",
        "plt.show()"
      ],
      "execution_count": 4,
      "outputs": [
        {
          "output_type": "display_data",
          "data": {
            "image/png": "[encoded data removed]",
            "text/plain": [
              "<Figure size 432x288 with 9 Axes>"
            ]
          },
          "metadata": {
            "tags": [],
            "needs_background": "light"
          }
        }
      ]
    },
    {
      "cell_type": "code",
      "metadata": {
        "id": "UP7MRKHsu0VB",
        "colab_type": "code",
        "colab": {}
      },
      "source": [
        "train_data = train_data.reshape((train_data.shape[0], 28, 28, 1))\n",
        "test_data = test_data.reshape((test_data.shape[0], 28, 28, 1))"
      ],
      "execution_count": 0,
      "outputs": []
    },
    {
      "cell_type": "code",
      "metadata": {
        "id": "h0gxjjtzvPL2",
        "colab_type": "code",
        "colab": {}
      },
      "source": [
        "# one hot encode target values\n",
        "train_targets = to_categorical(train_targets)\n",
        "test_targets = to_categorical(test_targets)"
      ],
      "execution_count": 0,
      "outputs": []
    },
    {
      "cell_type": "code",
      "metadata": {
        "id": "po6mTJ_1ymuo",
        "colab_type": "code",
        "colab": {}
      },
      "source": [
        "# convert from integers to floats\n",
        "train_data = train_data.astype('float32')\n",
        "test_data = test_data.astype('float32')\n",
        "# normalize to range 0-1\n",
        "train_data = train_data / 255.0\n",
        "test_data = test_data / 255.0"
      ],
      "execution_count": 0,
      "outputs": []
    },
    {
      "cell_type": "code",
      "metadata": {
        "id": "TSc4Omy1zwPZ",
        "colab_type": "code",
        "colab": {}
      },
      "source": [
        "# define cnn model\n",
        "def define_model():\n",
        "\tmodel = Sequential()\n",
        "\tmodel.add(Conv2D(32, (3, 3), activation='relu', kernel_initializer='he_uniform', input_shape=(28, 28, 1)))\n",
        "\tmodel.add(MaxPooling2D((2, 2)))\n",
        "\tmodel.add(Flatten())\n",
        "\tmodel.add(Dense(100, activation='relu', kernel_initializer='he_uniform'))\n",
        "\tmodel.add(Dense(10, activation='softmax'))\n",
        "\t# compile model\n",
        "\topt = SGD(lr=0.01, momentum=0.9)\n",
        "\tmodel.compile(optimizer=opt, loss='categorical_crossentropy', metrics=['accuracy'])\n",
        "\treturn model"
      ],
      "execution_count": 0,
      "outputs": []
    },
    {
      "cell_type": "code",
      "metadata": {
        "id": "XTWfQPJHz6En",
        "colab_type": "code",
        "outputId": "379d982b-2cb5-4d35-bf2c-6bf112c94f30",
        "colab": {
          "base_uri": "https://localhost:8080/",
          "height": 101
        }
      },
      "source": [
        "n_folds=5\n",
        "\n",
        "scores, histories = list(), list()\n",
        "# prepare cross validation\n",
        "kfold = KFold(n_folds, shuffle=True, random_state=1)\n",
        "# enumerate splits\n",
        "for train_ix, test_ix in kfold.split(train_data):\n",
        "\t# define model\n",
        "\tmodel = define_model()\n",
        "\t# select rows for train and test\n",
        "\ttrainX, trainY, testX, testY = train_data[train_ix], train_targets[train_ix], train_data[test_ix], train_targets[test_ix]\n",
        "\t# fit model\n",
        "\thistory = model.fit(trainX, trainY, epochs=10, batch_size=32, validation_data=(testX, testY), verbose=0)\n",
        "\t# evaluate model\n",
        "\t_, acc = model.evaluate(testX, testY, verbose=0)\n",
        "\tprint('> %.3f' % (acc * 100.0))\n",
        "\t# stores scores\n",
        "\tscores.append(acc)\n",
        "\thistories.append(history)"
      ],
      "execution_count": 9,
      "outputs": [
        {
          "output_type": "stream",
          "text": [
            "> 98.592\n",
            "> 98.667\n",
            "> 98.633\n",
            "> 98.825\n",
            "> 98.867\n"
          ],
          "name": "stdout"
        }
      ]
    },
    {
      "cell_type": "code",
      "metadata": {
        "id": "n5wEvkfl0yTB",
        "colab_type": "code",
        "colab": {
          "base_uri": "https://localhost:8080/",
          "height": 368
        },
        "outputId": "466bf907-309e-4be6-8129-0bab8c6f3a76"
      },
      "source": [
        "for i in range(len(histories)):\n",
        "\t# plot loss\n",
        "\tplt.subplot(2, 1, 1)\n",
        "\tplt.title('Cross Entropy Loss')\n",
        "\tplt.plot(histories[i].history['loss'], color='blue', label='train')\n",
        "\tplt.plot(histories[i].history['val_loss'], color='orange', label='test')\n",
        "\t# plot accuracy\n",
        "\tplt.subplot(2, 1, 2)\n",
        "\tplt.title('Classification Accuracy')\n",
        "\tplt.plot(histories[i].history['accuracy'], color='blue', label='train')\n",
        "\tplt.plot(histories[i].history['val_accuracy'], color='orange', label='test')\n",
        "plt.show()"
      ],
      "execution_count": 11,
      "outputs": [
        {
          "output_type": "stream",
          "text": [
            "/usr/local/lib/python3.6/dist-packages/ipykernel_launcher.py:3: MatplotlibDeprecationWarning: Adding an axes using the same arguments as a previous axes currently reuses the earlier instance.  In a future version, a new instance will always be created and returned.  Meanwhile, this warning can be suppressed, and the future behavior ensured, by passing a unique label to each axes instance.\n",
            "  This is separate from the ipykernel package so we can avoid doing imports until\n",
            "/usr/local/lib/python3.6/dist-packages/ipykernel_launcher.py:8: MatplotlibDeprecationWarning: Adding an axes using the same arguments as a previous axes currently reuses the earlier instance.  In a future version, a new instance will always be created and returned.  Meanwhile, this warning can be suppressed, and the future behavior ensured, by passing a unique label to each axes instance.\n",
            "  \n"
          ],
          "name": "stderr"
        },
        {
          "output_type": "display_data",
          "data": {
            "image/png": "[encoded data removed]",
            "text/plain": [
              "<Figure size 432x288 with 2 Axes>"
            ]
          },
          "metadata": {
            "tags": [],
            "needs_background": "light"
          }
        }
      ]
    },
    {
      "cell_type": "code",
      "metadata": {
        "id": "8buT8zdkbT1U",
        "colab_type": "code",
        "colab": {
          "base_uri": "https://localhost:8080/",
          "height": 282
        },
        "outputId": "3e01cd02-f633-432a-ad99-2695bf858074"
      },
      "source": [
        "# print summary\n",
        "print('Accuracy: mean=%.3f std=%.3f, n=%d' % (mean(scores)*100, std(scores)*100, len(scores)))\n",
        "# box and whisker plots of results\n",
        "plt.boxplot(scores)\n",
        "plt.show()"
      ],
      "execution_count": 16,
      "outputs": [
        {
          "output_type": "stream",
          "text": [
            "Accuracy: mean=98.717 std=0.109, n=5\n"
          ],
          "name": "stdout"
        },
        {
          "output_type": "display_data",
          "data": {
            "image/png": "[encoded data removed]",
            "text/plain": [
              "<Figure size 432x288 with 1 Axes>"
            ]
          },
          "metadata": {
            "tags": [],
            "needs_background": "light"
          }
        }
      ]
    }
  ]
}