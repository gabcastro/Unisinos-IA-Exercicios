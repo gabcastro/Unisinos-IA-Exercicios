{
  "cells": [
    {
      "cell_type": "markdown",
      "metadata": {
        "id": "WBanE3VFgq2v",
        "colab_type": "text"
      },
      "source": [
        "# Aula 3 - Busca local e algoritmos genéticos"
      ]
    },
    {
      "cell_type": "markdown",
      "metadata": {
        "id": "xwrF0lMnyw5K",
        "colab_type": "text"
      },
      "source": [
        "## Parte 1 - busca local\n",
        "\n",
        "Abaixo, temos a implementação do algoritmo Hill Climbing. O algoritmo recebe um estado inicial (`init_state`), uma função geradora de vizinhança (`fn_neighbours`), uma função de avaliação de soluções (`fn_evaluate`), um conjunto de valores possíveis para cada posição da solução (`possible_values`) e um número máximo de iterações (`iterations`). Ao final, o algoritmo retorna o ótimo local encontrado a partir da solução inicial."
      ]
    },
    {
      "cell_type": "code",
      "metadata": {
        "id": "jHFiLmv7hQdy",
        "colab_type": "code",
        "colab": {}
      },
      "source": [
        "import random\n",
        "\n",
        "def hill_climbing(init_state, fn_neighbours, fn_evaluate, possible_values, iterations=10000):\n",
        "    \n",
        "    current = init_state\n",
        "\n",
        "    while iterations:\n",
        "\n",
        "        # explore the neighbourhood\n",
        "        neighbors = fn_neighbours(current, possible_values)\n",
        "        if not neighbors:\n",
        "            break\n",
        "        \n",
        "        # select the best neighbour\n",
        "        neighbor = argmax_random_tie(neighbors, key=lambda node: fn_evaluate(node))\n",
        "\n",
        "        # store the neighbour only if it is better than the current solution\n",
        "        if fn_evaluate(neighbor) > fn_evaluate(current):\n",
        "           current = neighbor\n",
        "        iterations -= 1\n",
        "        \n",
        "    return current\n",
        "\n",
        "# return the best element from the received list; ties are break uniformly at random\n",
        "def argmax_random_tie(seq, key=lambda x: x):\n",
        "    items = list(seq)\n",
        "    random.shuffle(items)\n",
        "    return max(items, key=key)"
      ],
      "execution_count": 0,
      "outputs": []
    },
    {
      "cell_type": "markdown",
      "metadata": {
        "id": "wYdCfXSwz37B",
        "colab_type": "text"
      },
      "source": [
        "Para o algoritmo acima funcionar, precisamos de duas funções de apoio: `fn_neighbours` e `fn_evaluate`. Esta funções devem ser definidas com base na definição do problema que queremos resolver. Por exemplo, vamos considerar o problema de coloração de grafos. Em particular, vamos considerar a instância Australia deste problema, conforme a figura abaixo.\n",
        "\n",
        "![alt text](https://www.researchgate.net/profile/Abderrazak_Daoudi/publication/325808704/figure/fig2/AS:638325140512769@1529199981896/An-example-of-graph-coloring-problem.png)\n",
        "\n",
        "Neste problema, o objetivo é colorir os territórios do mapa de tal forma que territórios vizinhos nunca tenham a mesma cor. No exemplo acima, é fácil ver que precisamos de pelo menos três cores para resolver o problema.\n",
        "\n",
        "Para que o computador consiga resolver este problema, naturalmente precisamos representá-lo de uma forma mais eficiente do que uma imagem. Desta forma, podemos representar o problema como um grafo, onde os nós representam territórios e as arestas denotam territórios vizinhos. \n",
        "\n",
        "De uma forma simples, o grafo acima pode ser representado através do dicionário a seguir, onde as chaves denotam o nome das arestas e os valores correspondentes denotam os nós conectados pela aresta. No caso abaixo, nós são representados por números, onde WA=0, NT=1, SA=2, Q=3, NSW=4, V=5 e T=6. Nota: nosso algoritmo assume que o grafo é completo, desta forma criamos uma aresta entre os nós V e T para o algoritmo funcionar."
      ]
    },
    {
      "cell_type": "code",
      "metadata": {
        "id": "NIZQ0Lbd3yS6",
        "colab_type": "code",
        "colab": {}
      },
      "source": [
        "# Australia instance of the graph coloring problem; each entry represents an edge\n",
        "australia = {\n",
        "    'WA-NT': [0, 1],\n",
        "    'WA-SA': [0, 2],\n",
        "    'NT-SA': [1, 2],\n",
        "    'NT-Q': [1, 3],\n",
        "    'SA-Q': [2, 3],\n",
        "    'SA-NSW': [2, 4],\n",
        "    'SA-V': [2, 5],\n",
        "    'Q-NSW': [3, 4],\n",
        "    'NSW-V': [4, 5],\n",
        "    'V-T': [5, 6] \n",
        "}"
      ],
      "execution_count": 0,
      "outputs": []
    },
    {
      "cell_type": "markdown",
      "metadata": {
        "id": "9P8tKcAy3ylX",
        "colab_type": "text"
      },
      "source": [
        "De modo a resolver o problema de coloração de grafos utilizando o algoritmo Hill Climbing, vamos definir uma função de vizinhança (`fn_neighbours_GC`) e uma classe de avaliação (`EvaluateGC`).\n",
        "\n",
        "A função `fn_neighbours_GC` recebe dois argumentos. O primeiro é uma solução (`state`), que denota uma alocação qualquer de cores, sendo uma para cada estado. O segundo argumento (`possible_values`) denota o conjunto de valores possíveis para cada posição da solução. No nosso caso, esses valores denotam as cores que queremos utilizar para colorir o grafo. Para gerar a vizinhança, a função altera cada valor da solução (`state`) recebida pelos valores possíveis (`possible_values`); cada alteração individual representa um indivíduo; o conjunto destes vizinhos denota a vizinhança de `state`."
      ]
    },
    {
      "cell_type": "code",
      "metadata": {
        "id": "iWE-625hhQ7Q",
        "colab_type": "code",
        "colab": {}
      },
      "source": [
        "def find_neighbours_GC(state, possible_values):\n",
        "    \n",
        "    # list of neighbours\n",
        "    neighbours = []\n",
        "\n",
        "    # for each position (i.e., territory)\n",
        "    for i in range(len(state)):\n",
        "        # for each possible value (i.e., colour)\n",
        "        for v in possible_values:\n",
        "            # if the change generates a new neighbour, create it and add to the neighbourhood list\n",
        "            if state[i] != v:\n",
        "              neighbour = state[:]\n",
        "              neighbour[i] = v\n",
        "              neighbours.append(neighbour)\n",
        "    \n",
        "    return neighbours"
      ],
      "execution_count": 0,
      "outputs": []
    },
    {
      "cell_type": "markdown",
      "metadata": {
        "id": "wO38_gkE3C4u",
        "colab_type": "text"
      },
      "source": [
        "A classe `EvaluateGC` é responsável por avaliar soluções. Primeiramente, ela deve ser inicializada com a instância do problema, gerando assim um objeto. Posteriormente, para avaliar uma solução, basta chamar diretamente o objeto, passando a solução em questão como argumento. Isto faz com que o método `__call__` seja chamado, o qual recebe uma solução (`solution`) e a avalia seu valor no contexto da instância do problema considerado (`problem_instance`). No caso da coloração de grafos, este valor representa o número de pares de territórios vizinhos que possuem cores diferentes. \n",
        "\n",
        "Optamos por criar uma classe ao invés de uma simples função para permitir que a instância do problema seja registrada internamente na classe, permitindo assim que soluções sejam avaliadas posteriormente sem precisarmos nos preocupar em guardar a variável correspondente à instância do problema."
      ]
    },
    {
      "cell_type": "code",
      "metadata": {
        "id": "Ge2zpXgmhRC2",
        "colab_type": "code",
        "colab": {}
      },
      "source": [
        "# evaluation class; \n",
        "# since that a solution needs to be evaluated with respect to the problem instance \n",
        "# in consideration, we created this class to store the problem instance and to \n",
        "# allow the evaluation to be performed without having the problem instance at hand\n",
        "class EvaluateGC:\n",
        "    # during initialization, store the problem instance\n",
        "    def __init__(self, problem_instance):\n",
        "        self.problem_instance = problem_instance\n",
        "    \n",
        "    # compute the value of the received solution\n",
        "    def __call__(self, solution):\n",
        "        return sum(solution[n1] != solution[n2] for (n1, n2) in self.problem_instance.values())\n",
        "\n",
        "# create an instance of the evaluation class for the considered problem instance\n",
        "fn_evaluate = EvaluateGC(australia)\n",
        "# now, a solution X can be evaluated by simply calling fn_evaluate(X)"
      ],
      "execution_count": 0,
      "outputs": []
    },
    {
      "cell_type": "markdown",
      "metadata": {
        "id": "awvpXKJz4YeM",
        "colab_type": "text"
      },
      "source": [
        "Finalmente, podemos testar nosso algoritmo."
      ]
    },
    {
      "cell_type": "code",
      "metadata": {
        "id": "0_rBCLDk4X5f",
        "colab_type": "code",
        "outputId": "5fa8f750-9239-4d11-a3aa-00463f0d4851",
        "colab": {
          "base_uri": "https://localhost:8080/",
          "height": 54
        }
      },
      "source": [
        "# set of possible colours (red, green, blue)\n",
        "possible_values = ['R', 'G', 'B'] \n",
        "\n",
        "# initial state; this state could be generated at random; \n",
        "# to keep it simple, here we assume that all territories have the same colour\n",
        "init_state = ['R', 'R', 'R', 'R', 'R', 'R', 'R'] \n",
        "\n",
        "# execute the algoritm\n",
        "best = hill_climbing(init_state, find_neighbours_GC, fn_evaluate, possible_values)\n",
        "\n",
        "# print the results\n",
        "print('Resulting solution: %s' % best)\n",
        "print('Value of resulting solution: %d' % fn_evaluate(best))"
      ],
      "execution_count": 17,
      "outputs": [
        {
          "output_type": "stream",
          "text": [
            "Resulting solution: ['R', 'G', 'B', 'R', 'G', 'R', 'G']\n",
            "Value of resulting solution: 10\n"
          ],
          "name": "stdout"
        }
      ]
    },
    {
      "cell_type": "markdown",
      "metadata": {
        "id": "smbSE6-Q4Y_V",
        "colab_type": "text"
      },
      "source": [
        "Se você testar o código acima, verá que o algoritmo Hill Climbing encontra resultados razoavelmente bons. De fato, nesta instância do problema ele frequentemente alcança a solução ótima, cujo valor é 10. \n",
        "\n",
        "Abaixo, apresentamos um problema menor, onde existem apenas quatro nós e a solução ótima possui valor 4."
      ]
    },
    {
      "cell_type": "code",
      "metadata": {
        "id": "jled7_Yol8CE",
        "colab_type": "code",
        "outputId": "0ee74623-56ad-4a16-e7c3-ecd6632635e7",
        "colab": {
          "base_uri": "https://localhost:8080/",
          "height": 54
        }
      },
      "source": [
        "# another instance of the graph coloring problem\n",
        "another_instance = {\n",
        "    'A': [0, 1],\n",
        "    'B': [0, 3],\n",
        "    'C': [1, 2],\n",
        "    'D': [2, 3]\n",
        "}\n",
        "\n",
        "# create an instance of the evaluation class for the considered problem instance\n",
        "fn_evaluate = EvaluateGC(another_instance)\n",
        "\n",
        "# set of possible colours (red, green)\n",
        "possible_values = ['R', 'G']\n",
        "\n",
        "# initial state; this state could be generated at random; \n",
        "# to keep it simple, here we assume that all nodes have the same colour\n",
        "init_state = ['R', 'R', 'R', 'R']\n",
        "\n",
        "# run the algoritm\n",
        "best = hill_climbing(init_state, find_neighbours_GC, fn_evaluate, possible_values)\n",
        "\n",
        "# print the results\n",
        "print('Resulting solution: %s' % best)\n",
        "print('Value of resulting solution: %d' % fn_evaluate(best))"
      ],
      "execution_count": 18,
      "outputs": [
        {
          "output_type": "stream",
          "text": [
            "Resulting solution: ['R', 'G', 'R', 'G']\n",
            "Value of resulting solution: 4\n"
          ],
          "name": "stdout"
        }
      ]
    },
    {
      "cell_type": "markdown",
      "metadata": {
        "id": "wiS2RnEwlDob",
        "colab_type": "text"
      },
      "source": [
        "Note que, em ambos os exemplos acima, o problema que estamos resolvendo é o mesmo (coloração de grafos), o que muda é apenas a instância (`australia` e `another_instance`). Desta forma, em ambos os casos o algoritmo Hill Climbing utilizou as mesmas funções de vizinhança (`find_neighbours_GC`) e de avaliação (`evaluate_GC`). Para resolver outros problemas (e.g., caixeiro viajante, roteamento de veículos, etc), basta formular as instâncias dos novos problemas e as variações correspondentes das funções `find_neighbours` e `evaluate`. Feito isso, o mesmo algoritmo Hill Climbing deve funcionar sem problemas."
      ]
    },
    {
      "cell_type": "markdown",
      "metadata": {
        "id": "nqzAUCCI7NOv",
        "colab_type": "text"
      },
      "source": [
        "### Exercício 1\n",
        "\n",
        "Codifique a instância do problema de coloração de grafos abaixo. Trata-se do [grafo de Petersen](https://pt.wikipedia.org/wiki/Grafo_de_Petersen). O número de cores possíveis aqui continua sendo 3. Em seguida, rode o algoritmo Hill Climbing. O valor ótimo aqui é 15.\n",
        "\n",
        "![alt text](https://upload.wikimedia.org/wikipedia/commons/thumb/9/90/Petersen_graph_3-coloring.svg/440px-Petersen_graph_3-coloring.svg.png)"
      ]
    },
    {
      "cell_type": "code",
      "metadata": {
        "id": "lUcTgt8W7u-l",
        "colab_type": "code",
        "colab": {
          "base_uri": "https://localhost:8080/",
          "height": 54
        },
        "outputId": "9bac88f5-9e20-49b1-8926-fd76cf8dc280"
      },
      "source": [
        "patersen_graph = {\n",
        "    'A-B': [0, 1],\n",
        "    'A-C': [0, 2],\n",
        "    'A-F': [0, 5],\n",
        "    'B-G': [1, 6],\n",
        "    'B-D': [1, 3],\n",
        "    'C-H': [2, 7],\n",
        "    'C-E': [2, 4],\n",
        "    'D-I': [3, 8],\n",
        "    'D-E': [3, 4],\n",
        "    'E-J': [4, 9],\n",
        "    'F-I': [5, 8],\n",
        "    'F-J': [5, 9],\n",
        "    'G-H': [6, 7],\n",
        "    'G-J': [6, 9],\n",
        "    'H-I': [7, 8]\n",
        "}\n",
        "\n",
        "# create an instance of the evaluation class for the considered problem instance\n",
        "fn_evaluate = EvaluateGC(patersen_graph)\n",
        "\n",
        "# set of possible colours (red, green, blue)\n",
        "possible_values = ['R', 'G', 'B']\n",
        "\n",
        "# initial state; this state could be generated at random; \n",
        "# to keep it simple, here we assume that all nodes have the same colour\n",
        "init_state = ['R', 'R', 'R', 'R', 'R', 'R', 'R', 'R', 'R', 'R']\n",
        "\n",
        "# run the algoritm\n",
        "best = hill_climbing(init_state, find_neighbours_GC, fn_evaluate, possible_values)\n",
        "\n",
        "# print the results\n",
        "print('Resulting solution: %s' % best)\n",
        "print('Value of resulting solution: %d' % fn_evaluate(best))"
      ],
      "execution_count": 19,
      "outputs": [
        {
          "output_type": "stream",
          "text": [
            "Resulting solution: ['G', 'R', 'B', 'B', 'R', 'B', 'B', 'R', 'G', 'G']\n",
            "Value of resulting solution: 15\n"
          ],
          "name": "stdout"
        }
      ]
    },
    {
      "cell_type": "markdown",
      "metadata": {
        "id": "eQ1YmcUz7vbk",
        "colab_type": "text"
      },
      "source": [
        "### Exercício 2\n",
        "\n",
        "Codifique o problema das n-rainhas. Considere a instância de tamanho 8 (i.e., 8-rainhas), conforme imagem abaixo. Em seguida, rode o algoritmo Hill Climbing. Na solução ótima, nenhuma rainha consegue atacar as demais.\n",
        "\n",
        "![alt text](https://www.researchgate.net/publication/333815714/figure/fig1/AS:770619155156992@1560741332335/A-visual-representation-of-a-solution-for-the-8-queens-problem-left-and-the-variables.png)"
      ]
    },
    {
      "cell_type": "code",
      "execution_count": null,
      "metadata": {},
      "outputs": [],
      "source": [
        "# evaluation class for the n-Queens problem\n",
        "class EvaluateNQueens:\n",
        "    # during initialization, store the problem instance\n",
        "    def __init__(self, n):\n",
        "        self.n = n\n",
        "    \n",
        "    # compute the value of the received solution\n",
        "    def __call__(self, solution):\n",
        "        conflicts = 0\n",
        "\n",
        "        for (c1, r1) in enumerate(solution):\n",
        "          for (c2, r2) in enumerate(solution):\n",
        "            if c2 <= c1:\n",
        "              continue\n",
        "            if (r1, c1) != (r2, c2):\n",
        "              if (r1 == r2) or (c1 == c2) or (r1 - c1 == r2 - c2) or (r1 + c1 == r2 + c2):\n",
        "                conflicts+=1\n",
        "\n",
        "        # our hill climbing implementation maximises the value; \n",
        "        # thus, instead of returning only the number of conflicts (which we  \n",
        "        # would want to minimise instead of maximise), we return its negative\n",
        "        return -conflicts "
      ]
    },
    {
      "cell_type": "code",
      "execution_count": null,
      "metadata": {},
      "outputs": [],
      "source": [
        "def find_neighbours_NQueens(state, possible_values): #same as in graph coloring\n",
        "    \n",
        "    # list of neighbours\n",
        "    neighbours = []\n",
        "\n",
        "    # for each position\n",
        "    for i in range(len(state)):\n",
        "        # for each possible value\n",
        "        for v in possible_values:\n",
        "            # if the change generates a new neighbour, create it and add to the neighbourhood list\n",
        "            if state[i] != v:\n",
        "              neighbour = state[:]\n",
        "              neighbour[i] = v\n",
        "              neighbours.append(neighbour)\n",
        "    \n",
        "    return neighbours"
      ]
    },
    {
      "cell_type": "code",
      "execution_count": null,
      "metadata": {},
      "outputs": [],
      "source": [
        "# instance of the N-Queens problem\n",
        "n = 8\n",
        "\n",
        "# create an instance of the evaluation class for the considered problem instance\n",
        "fn_evaluate = EvaluateNQueens(n)\n",
        "\n",
        "# set of possible values \n",
        "possible_values = [x for x in range(n)]\n",
        "\n",
        "# initial state (we begin with a solution where all queens are on the same row)\n",
        "init_state = [0 for _ in range(n)]\n",
        "\n",
        "# run the algoritm\n",
        "best = hill_climbing(init_state, find_neighbours_NQueens, fn_evaluate, possible_values)\n",
        "\n",
        "# print the results\n",
        "print('Resulting solution: %s' % best)\n",
        "print('Value of resulting solution (the closer to zero the best): %d' % fn_evaluate(best))"
      ]
    },
    {
      "cell_type": "markdown",
      "metadata": {
        "id": "71c_zjYShmGE",
        "colab_type": "text"
      },
      "source": [
        "## Parte 2 - algoritmos genéticos\n",
        "\n",
        "Abaixo, temos a implementação de um algoritmo genético. O algoritmo recebe uma população inicial (`population`), uma função de avaliação de soluções (`fn_fitness`), um conjunto de valores possíveis para cada posição da solução (`gene_pool`), uma função de critério de parada por qualidade da solução (`fn_thres`), um número máximo de gerações (`ngen`) e uma probabilidade de mutação (`pmut`). Ao final, o algoritmo retorna o melhor indivíduo (solução) da última geração de indivíduos."
      ]
    },
    {
      "cell_type": "code",
      "metadata": {
        "id": "sfHC6bcy-zYM",
        "colab_type": "code",
        "colab": {}
      },
      "source": [
        "import random as random\n",
        "import bisect\n",
        "\n",
        "def genetic_algorithm(population, fn_fitness, gene_pool, fn_thres=None, ngen=1000, pmut=0.1):\n",
        "    \n",
        "    # for each generation\n",
        "    for i in range(ngen):\n",
        "\n",
        "        # create a new population\n",
        "        new_population = []\n",
        "\n",
        "        # repeat to create len(population) individuals\n",
        "        for i in range(len(population)):\n",
        "          \n",
        "          # select the parents\n",
        "          p1, p2 = select(2, population, fn_fitness)\n",
        "\n",
        "          # recombine the parents, thus producing the child\n",
        "          child = recombine(p1, p2)\n",
        "\n",
        "          # mutate the child\n",
        "          child = mutate(child, gene_pool, pmut)\n",
        "\n",
        "          # add the child to the new population\n",
        "          new_population.append(child)\n",
        "\n",
        "        # move to the new population\n",
        "        population = new_population\n",
        "\n",
        "        # check if one of the individuals achieved a fitness of fn_thres; if so, return it\n",
        "        fittest_individual = fitness_threshold(fn_fitness, fn_thres, population)\n",
        "        if fittest_individual:\n",
        "            return fittest_individual\n",
        "\n",
        "    # return the individual with highest fitness\n",
        "    return max(population, key=fn_fitness)\n",
        "  \n",
        "# get the best individual of the received population and return it if its \n",
        "# fitness is higher than the specified threshold fn_thres\n",
        "def fitness_threshold(fn_fitness, fn_thres, population):\n",
        "    if not fn_thres:\n",
        "        return None\n",
        "\n",
        "    fittest_individual = max(population, key=fn_fitness)\n",
        "    if fn_fitness(fittest_individual) >= fn_thres:\n",
        "        return fittest_individual\n",
        "\n",
        "    return None"
      ],
      "execution_count": 0,
      "outputs": []
    },
    {
      "cell_type": "markdown",
      "metadata": {
        "id": "gUYgC0348Zo-",
        "colab_type": "text"
      },
      "source": [
        "Para o algoritmo acima funcionar, precisamos das seguintes funções de apoio: `fn_fitness`, `select`, `recombine` e `mutate`. A primeira função deve ser definida com base na definição do problema que queremos resolver (como no exemplo anterior, onde foi criada a função `fn_evaluate_GC` para o problema de coloração de grafos). As demais funções, por outro lado, tendem a ser mais genéricas, representando o que chamamos de operadores genéticos. Naturalmente, nem todos operadores genéticos funcionam bem em todos os problemas. Desta forma, devemos escolhar os operadores genéticos com base no problema em questão.\n",
        "\n",
        "A função `select` abaixo implementa o operador genético de seleção. Em particular, é implementada a seleção da roleta (ou seleção proporcional à aptidão). Neste método, a partir da população (`population`) e função de aptidão (`fn_fitness`) recebidas, o método retorna `r` indivíduos aleatoriamente, onde a probabilidade de um dado indivíduo ser selecionado é proporcional à sua aptidão. Este tipo de seleção faz bastante sentido na prática, pois garante que indivíduos mais aptos têm chances maiores de produzir filhos."
      ]
    },
    {
      "cell_type": "code",
      "metadata": {
        "id": "DHOnhsXH8ZE0",
        "colab_type": "code",
        "colab": {}
      },
      "source": [
        "# genetic operator for selection of individuals; \n",
        "# this function implements roulette wheel selection, where individuals with \n",
        "# higher fitness are selected with higher probability\n",
        "def select(r, population, fn_fitness):\n",
        "    fitnesses = map(fn_fitness, population)\n",
        "    sampler = weighted_sampler(population, fitnesses)\n",
        "    return [sampler() for i in range(r)]\n",
        "\n",
        "# return a single sample from seq; the probability of a sample being returned\n",
        "# is proportional to its weight\n",
        "def weighted_sampler(seq, weights):\n",
        "    totals = []\n",
        "    for w in weights:\n",
        "        totals.append(w + totals[-1] if totals else w)\n",
        "    return lambda: seq[bisect.bisect(totals, random.uniform(0, totals[-1]))]"
      ],
      "execution_count": 0,
      "outputs": []
    },
    {
      "cell_type": "markdown",
      "metadata": {
        "id": "8R_Z91ao8K0g",
        "colab_type": "text"
      },
      "source": [
        "A função `recombine` abaixo implementa o operador genético de recombinação (ou cruzamento). Em particular, a função implementa a recombinação de ponto único, onde um número aleatório `c` é gerado para dividir as porções iniciais (índices 0 a c) e finais (índices c a n) dos pais (`x` e `y`). O filho é então produzido a partir da porção inicial de um dos pais e a porção final do outro."
      ]
    },
    {
      "cell_type": "code",
      "metadata": {
        "id": "crIYNuhh-ze6",
        "colab_type": "code",
        "colab": {}
      },
      "source": [
        "# genetic operator for recombination (crossover) of individuals; \n",
        "# this function implements single-point crossover, where the resulting individual\n",
        "# carries a portion [0,c] from parent x and a portion [c,n] from parent y, with \n",
        "# c selected at random\n",
        "def recombine(x, y):\n",
        "    n = len(x)\n",
        "    c = random.randrange(0, n)\n",
        "    return x[:c] + y[c:]"
      ],
      "execution_count": 0,
      "outputs": []
    },
    {
      "cell_type": "markdown",
      "metadata": {
        "id": "YGL8n3Li8Qeg",
        "colab_type": "text"
      },
      "source": [
        "A função `mutate` abaixo implementa o operador genético de mutação. Em particular, a função implementa a mutação uniforme no indivíduo recebido `x`. Nesta mutação, um gene (posição) do indivíduo é selecionado de forma aleatória e seu valor é substituído por um dos valores possíveis (`gene_pool`) aleatoriamente. Vale observar que o indivíduo `x` só sofre mutação com probabilidade `pmut`. Note ainda que neste método apenas um gene sofre mutação."
      ]
    },
    {
      "cell_type": "code",
      "metadata": {
        "id": "1W5pbJJH-zRH",
        "colab_type": "code",
        "colab": {}
      },
      "source": [
        "# genetic operator for mutation; \n",
        "# this function implements uniform mutation, where a single element of the \n",
        "# individual is selected at random and its value is changed by a randomly chosen \n",
        "# value (out of the possible values in gene_pool)\n",
        "def mutate(x, gene_pool, pmut):\n",
        "    \n",
        "    # if random >= pmut, then no mutation is performed\n",
        "    if random.uniform(0, 1) >= pmut:\n",
        "        return x\n",
        "\n",
        "    n = len(x)\n",
        "    g = len(gene_pool)\n",
        "    c = random.randrange(0, n) # gene to be mutated\n",
        "    r = random.randrange(0, g) # new value of the selected gene\n",
        "\n",
        "    new_gene = gene_pool[r]\n",
        "    return x[:c] + [new_gene] + x[c+1:]"
      ],
      "execution_count": 0,
      "outputs": []
    },
    {
      "cell_type": "markdown",
      "metadata": {
        "id": "GYiTi5Dl8V48",
        "colab_type": "text"
      },
      "source": [
        "Definidos os operadores acima, agora precisamos criar um método para gerar a população inicial. Esta população deve ser gerada de forma aleatória. A função `init_population` faz exatamente isso. Para tal, ela recebe três parâmetros. O primeiro (`pop_number`) especifica o tamanho da população. O segundo (`gene_pool`) define os valores possíveis para os genes de cada indivíduo. O terceiro (`state_length`) denota o número de genes de cada indivíduo. Ao final, a função abaixo retorna uma lista com a população de indivíduos."
      ]
    },
    {
      "cell_type": "code",
      "metadata": {
        "id": "40Eu-8gB-zP6",
        "colab_type": "code",
        "colab": {}
      },
      "source": [
        "def init_population(pop_number, gene_pool, state_length):\n",
        "    g = len(gene_pool)\n",
        "    population = []\n",
        "    for i in range(pop_number):\n",
        "        # each individual is represented as an array with size state_length, \n",
        "        # where each position contains a value from gene_pool selected at random\n",
        "        new_individual = [gene_pool[random.randrange(0, g)] for j in range(state_length)]\n",
        "        population.append(new_individual)\n",
        "\n",
        "    return population"
      ],
      "execution_count": 0,
      "outputs": []
    },
    {
      "cell_type": "markdown",
      "metadata": {
        "id": "zJ8DWB1k9Gq8",
        "colab_type": "text"
      },
      "source": [
        "Agora podemos nos preocupar com o problema em si. Vamos considerar novamente o problema de coloração de grafos visto anteriormente."
      ]
    },
    {
      "cell_type": "code",
      "metadata": {
        "id": "rXN2sxMe3Mzv",
        "colab_type": "code",
        "colab": {}
      },
      "source": [
        "# Australia instance of the graph coloring problem; each entry represents an edge\n",
        "problem_instance = {\n",
        "    'WA-NT': [0, 1],\n",
        "    'WA-SA': [0, 2],\n",
        "    'NT-SA': [1, 2],\n",
        "    'NT-Q': [1, 3],\n",
        "    'SA-Q': [2, 3],\n",
        "    'SA-NSW': [2, 4],\n",
        "    'SA-V': [2, 5],\n",
        "    'Q-NSW': [3, 4],\n",
        "    'NSW-V': [4, 5],\n",
        "    'V-T': [5, 6] \n",
        "}\n",
        "\n",
        "# set of possible colours (red, green, blue)\n",
        "possible_values = ['R', 'G', 'B'] \n",
        "\n",
        "# length of an individual (one position per territory)\n",
        "individual_length = 7"
      ],
      "execution_count": 0,
      "outputs": []
    },
    {
      "cell_type": "markdown",
      "metadata": {
        "id": "s9NvGWHm3oUE",
        "colab_type": "text"
      },
      "source": [
        "Para avaliar a aptidão dos indivíduos no problema de coloração de grafos, podemos utilizar a mesma classe que vimos anteriomente. Esta classe calcula a aptdidão de um indivíduo como o número de pares de territórios vizinhos que possuem cores diferentes. Lembrando que quanto maior este número, melhor. "
      ]
    },
    {
      "cell_type": "code",
      "metadata": {
        "id": "a1vN-Rjo4cWe",
        "colab_type": "code",
        "colab": {}
      },
      "source": [
        "# evaluation class; \n",
        "# since that a solution needs to be evaluated with respect to the problem instance \n",
        "# in consideration, we created this class to store the problem instance and to \n",
        "# allow the evaluation to be performed without having the problem instance at hand\n",
        "class EvaluateGC:\n",
        "    # during initialization, store the problem instance\n",
        "    def __init__(self, problem_instance):\n",
        "        self.problem_instance = problem_instance\n",
        "    \n",
        "    # compute the value of the received solution\n",
        "    def __call__(self, solution):\n",
        "        return sum(solution[n1] != solution[n2] for (n1, n2) in self.problem_instance.values())\n",
        "\n",
        "# create an instance of the evaluation class for the considered problem instance\n",
        "fn_fitness = EvaluateGC(australia)\n",
        "# now, a solution X can be evaluated by simply calling fn_fitness(X)"
      ],
      "execution_count": 0,
      "outputs": []
    },
    {
      "cell_type": "markdown",
      "metadata": {
        "id": "pdYRdd353Llx",
        "colab_type": "text"
      },
      "source": [
        "Agora, finalmente, podemos testar nosso algoritmo."
      ]
    },
    {
      "cell_type": "code",
      "metadata": {
        "id": "f4WUIRvt9G5y",
        "colab_type": "code",
        "outputId": "08037e8b-bb1c-487e-df9d-452a82a7d903",
        "colab": {
          "base_uri": "https://localhost:8080/",
          "height": 54
        }
      },
      "source": [
        "# population size\n",
        "population_size = 8\n",
        "\n",
        "# initial population\n",
        "population = init_population(population_size, possible_values, individual_length)\n",
        "\n",
        "# run the algoritm\n",
        "solution = genetic_algorithm(population, fn_fitness, gene_pool=possible_values, fn_thres=10)\n",
        "\n",
        "# print the results\n",
        "print('Resulting solution: %s' % solution)\n",
        "print('Value of resulting solution: %d' % fn_fitness(solution))"
      ],
      "execution_count": 27,
      "outputs": [
        {
          "output_type": "stream",
          "text": [
            "Resulting solution: ['G', 'R', 'B', 'G', 'R', 'G', 'R']\n",
            "Value of resulting solution: 10\n"
          ],
          "name": "stdout"
        }
      ]
    },
    {
      "cell_type": "markdown",
      "metadata": {
        "id": "U7Z6rmRu5PuA",
        "colab_type": "text"
      },
      "source": [
        "Se você testar o código acima, verá que o algoritmo genético consegue encontrar o resultado ótimo com uma certa facilidade nesta instância do problema de coloração de grafos. Lembrando que, nesta instância, a solução ótimapossui um valor de 10.\n",
        "\n",
        "Novamente, lembre que o problema que estamos resolvendo aqui é o de coloração de grafos. Da mesma forma que vimos anteriormente, podemos utilizar este algoritmo para resolver outras instâncias do mesmo problema, bastando especificar as variáveis `problem_instance`, `possible_values`, `individual_length` e `fn_fitness` correspondentes.\n",
        "\n",
        "Naturalmente, dependendo do problema a ser considerado, pode ser necessário ainda ajustar também alguns elementos do algoritmo, como os operadores genéticos. Os operadores genéticos sempre devem ser escolhidos com base na estrutura do problema."
      ]
    },
    {
      "cell_type": "markdown",
      "metadata": {
        "id": "uymd1TvXJau4",
        "colab_type": "text"
      },
      "source": [
        "### Exercício 3\n",
        "\n",
        "Utilize o algoritmo genético para resolver a instância \"grafo de Petersen\" do problema de coloração de grafos. O número de cores possíveis aqui continua sendo 3 e o valor ótimo permanece sendo 15."
      ]
    },
    {
      "cell_type": "code",
      "metadata": {
        "id": "pS-4hXp3JbAh",
        "colab_type": "code",
        "colab": {
          "base_uri": "https://localhost:8080/",
          "height": 54
        },
        "outputId": "bf3c2126-e936-425a-97c8-e60ddab70bae"
      },
      "source": [
        "patersen_graph = {\n",
        "    'A-B': [0, 1],\n",
        "    'A-C': [0, 2],\n",
        "    'A-F': [0, 5],\n",
        "    'B-G': [1, 6],\n",
        "    'B-D': [1, 3],\n",
        "    'C-H': [2, 7],\n",
        "    'C-E': [2, 4],\n",
        "    'D-I': [3, 8],\n",
        "    'D-E': [3, 4],\n",
        "    'E-J': [4, 9],\n",
        "    'F-I': [5, 8],\n",
        "    'F-J': [5, 9],\n",
        "    'G-H': [6, 7],\n",
        "    'G-J': [6, 9],\n",
        "    'H-I': [7, 8]\n",
        "}\n",
        "\n",
        "# set of possible colours (red, green, blue)\n",
        "possible_values = ['R', 'G', 'B'] \n",
        "\n",
        "# length of an individual\n",
        "individual_length = 10\n",
        "\n",
        "# population size\n",
        "population_size = 10\n",
        "\n",
        "# initial population\n",
        "population = init_population(population_size, possible_values, individual_length)\n",
        "\n",
        "# run the algoritm\n",
        "solution = genetic_algorithm(population, fn_fitness, gene_pool=possible_values, fn_thres=15)\n",
        "\n",
        "# print the results\n",
        "print('Resulting solution: %s' % solution)\n",
        "print('Value of resulting solution: %d' % fn_fitness(solution))"
      ],
      "execution_count": 32,
      "outputs": [
        {
          "output_type": "stream",
          "text": [
            "Resulting solution: ['G', 'R', 'B', 'G', 'R', 'G', 'B', 'R', 'R', 'R']\n",
            "Value of resulting solution: 10\n"
          ],
          "name": "stdout"
        }
      ]
    },
    {
      "cell_type": "markdown",
      "metadata": {
        "id": "FuArQF0Ah-3n",
        "colab_type": "text"
      },
      "source": [
        "### Exercício 4\n",
        "\n",
        "Utilize o algoritmo genético para resolver a instância 8-rainhas do problema n-rainhas. Lembrando que na solução ótima nenhuma rainha consegue atacar as demais."
      ]
    },
    {
      "cell_type": "code",
      "metadata": {
        "id": "-pSmrnxriKEz",
        "colab_type": "code",
        "colab": {}
      },
      "source": [
        "# your answer here"
      ],
      "execution_count": 0,
      "outputs": []
    },
    {
      "cell_type": "markdown",
      "metadata": {
        "id": "4G0K7PhjiWQF",
        "colab_type": "text"
      },
      "source": [
        "### Exercício 5\n",
        "\n",
        "Implemente o operador de mutação do algoritmo genético. Existem diversas possibilidades aqui. Uma sugestão é a mutação baseada em troca de posições (swap), onde duas posições são selecionadas aleatoriamente e seus valores são trocados. Mais detalhes (e outras opções) em: [link 1](https://link.springer.com/chapter/10.1007/978-1-4614-6940-7_4), [link 2](https://www.inf.ufsc.br/~alexandre.goncalves.silva/courses/14s2/ine5633/slides/aulaAG.pdf), [link 3](https://sites.icmc.usp.br/andre/research/genetic/) e [link 4](http://www2.peq.coppe.ufrj.br/Pessoal/Professores/Arge/COQ897/Naturais/aulas_piloto/aula4.pdf). Em seguida, rode o algoritmo nos problemas dos dois exercícios anteriores e compare o resultado das execuções do algoritmo genético com a mutação original e a criada aqui."
      ]
    },
    {
      "cell_type": "code",
      "metadata": {
        "id": "uxT8QsFzwrSz",
        "colab_type": "code",
        "colab": {}
      },
      "source": [
        "def mutate(x, gene_pool, pmut):\n",
        "    # your answer here\n",
        "    return x"
      ],
      "execution_count": 0,
      "outputs": []
    }
  ],
  "metadata": {
    "colab": {
      "name": "03 - exercicio-ia.ipynb",
      "provenance": [],
      "collapsed_sections": []
    },
    "kernelspec": {
      "name": "python3",
      "display_name": "Python 3"
    }
  },
  "nbformat": 4,
  "nbformat_minor": 0
}